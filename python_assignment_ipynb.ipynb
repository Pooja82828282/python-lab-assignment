{
  "cells": [
    {
      "cell_type": "markdown",
      "metadata": {
        "id": "MYg8qXrOfqS8"
      },
      "source": [
        "1.\tWrite a Python program to calculate the area of a circle given its radius."
      ]
    },
    {
      "cell_type": "code",
      "execution_count": null,
      "metadata": {
        "colab": {
          "base_uri": "https://localhost:8080/"
        },
        "id": "uKW8TkbAfu3j",
        "outputId": "62aec3ec-14ca-4125-d781-96cf01396c1e"
      },
      "outputs": [
        {
          "output_type": "stream",
          "name": "stdout",
          "text": [
            "Enter the radius of a circle : 7\n",
            "The area of a circle is :  153.86\n"
          ]
        }
      ],
      "source": [
        "a = int(input(\"Enter the radius of a circle : \"))\n",
        "b = 3.14*a**2\n",
        "print(f\"The area of a circle is : \", b)"
      ]
    },
    {
      "cell_type": "markdown",
      "metadata": {
        "id": "opNFOMEOloSy"
      },
      "source": [
        "2.\tCreate a program that takes user input for a temperature in Celsius and converts it to Fahrenheit."
      ]
    },
    {
      "cell_type": "code",
      "execution_count": null,
      "metadata": {
        "colab": {
          "base_uri": "https://localhost:8080/"
        },
        "id": "JbVTAR8blsJs",
        "outputId": "65a987b0-4dea-44ee-90c5-26a9122c6327"
      },
      "outputs": [
        {
          "name": "stdout",
          "output_type": "stream",
          "text": [
            "Enter the temperature in Celsius : 45\n",
            "The temperature in Fahrenheit is :  113.0\n"
          ]
        }
      ],
      "source": [
        "a = int(input(\"Enter the temperature in Celsius : \"))\n",
        "b = (a*9/5)+32\n",
        "print(f\"The temperature in Fahrenheit is : \", b)"
      ]
    },
    {
      "cell_type": "markdown",
      "metadata": {
        "id": "VRw9HvM5l5Af"
      },
      "source": [
        "3.\tImplement a calculator that performs basic arithmetic operations (addition, subtraction, multiplication, division) based on user input."
      ]
    },
    {
      "cell_type": "code",
      "execution_count": null,
      "metadata": {
        "colab": {
          "base_uri": "https://localhost:8080/"
        },
        "id": "T7BZ2dSzl_Jt",
        "outputId": "a3c55ac5-538e-4b47-8082-cfc3dc397724"
      },
      "outputs": [
        {
          "name": "stdout",
          "output_type": "stream",
          "text": [
            "Enter the first number : 5\n",
            "Enter the second number : 7\n",
            "Enter the operation : /\n",
            "Answer is : \n",
            "0.7142857142857143\n"
          ]
        }
      ],
      "source": [
        "a= int(input(\"Enter the first number : \"))\n",
        "b= int(input(\"Enter the second number : \"))\n",
        "c= input(\"Enter the operation : \")\n",
        "print(\"Answer is : \")\n",
        "if c == \"+\":\n",
        "    print(a+b)\n",
        "elif c == \"-\":\n",
        "    print(a-b)\n",
        "elif c == \"*\":\n",
        "    print(a*b)\n",
        "elif c == \"/\":\n",
        "    print(a/b)"
      ]
    },
    {
      "cell_type": "markdown",
      "metadata": {
        "id": "xo0SFRgemyYg"
      },
      "source": [
        "4.\tWrite a program that checks if a number is even or odd."
      ]
    },
    {
      "cell_type": "code",
      "execution_count": null,
      "metadata": {
        "colab": {
          "base_uri": "https://localhost:8080/"
        },
        "id": "_dLMnS1Ym4EB",
        "outputId": "06a29d48-5ba3-4812-841c-a949bd2361aa"
      },
      "outputs": [
        {
          "name": "stdout",
          "output_type": "stream",
          "text": [
            "Enter the number :5673\n",
            "5673 is odd\n"
          ]
        }
      ],
      "source": [
        "a=int(input(\"Enter the number :\"))\n",
        "if a%2==0:\n",
        "    print(f\"{a} is even\")\n",
        "else:\n",
        "    print(f\"{a} is odd\")\n"
      ]
    },
    {
      "cell_type": "markdown",
      "metadata": {
        "id": "9RMY8KzgnsJ2"
      },
      "source": [
        "5.\tDevelop a function that takes a string as input and returns the string reversed."
      ]
    },
    {
      "cell_type": "code",
      "execution_count": null,
      "metadata": {
        "colab": {
          "base_uri": "https://localhost:8080/",
          "height": 54
        },
        "id": "3O4QZMeUny7I",
        "outputId": "e70b3454-29a5-4cbc-be43-4a8ea24ef54a"
      },
      "outputs": [
        {
          "name": "stdout",
          "output_type": "stream",
          "text": [
            "Enter a string : pooja\n"
          ]
        },
        {
          "data": {
            "application/vnd.google.colaboratory.intrinsic+json": {
              "type": "string"
            },
            "text/plain": [
              "'ajoop'"
            ]
          },
          "execution_count": 20,
          "metadata": {},
          "output_type": "execute_result"
        }
      ],
      "source": [
        "def reverse_string(str1):\n",
        "  if len(str1)==1:\n",
        "    return str1\n",
        "  else:\n",
        "    return reverse_string(str1[1:])+str1[0]\n",
        "str1 = input(\"Enter a string : \")\n",
        "reverse_string(str1)"
      ]
    },
    {
      "cell_type": "markdown",
      "metadata": {
        "id": "ptnrB7Xgs0yw"
      },
      "source": [
        "6.\tCreate a program that asks the user for their age and prints whether they are a minor, adult, or senior."
      ]
    },
    {
      "cell_type": "code",
      "execution_count": null,
      "metadata": {
        "colab": {
          "base_uri": "https://localhost:8080/"
        },
        "id": "wSj3OI0ls73Q",
        "outputId": "9eb9665e-339a-4e87-e767-2e855d25673a"
      },
      "outputs": [
        {
          "name": "stdout",
          "output_type": "stream",
          "text": [
            "Enter your age : 76\n",
            "You are a senior\n"
          ]
        }
      ],
      "source": [
        "a=int(input(\"Enter your age : \"))\n",
        "if a<18:\n",
        "    print(\"You are a minor\")\n",
        "elif a>=18 and a<60:\n",
        "    print(\"You are an adult\")\n",
        "else:\n",
        "    print(\"You are a senior\")"
      ]
    },
    {
      "cell_type": "markdown",
      "metadata": {
        "id": "3JpaUu2n5-FO"
      },
      "source": [
        "7.\tWrite a program that evaluates three numbers and prints the largest one."
      ]
    },
    {
      "cell_type": "code",
      "execution_count": null,
      "metadata": {
        "colab": {
          "base_uri": "https://localhost:8080/"
        },
        "id": "KjbZnhLq7TIV",
        "outputId": "352e887d-d90d-43fc-8981-81bbadc53a7b"
      },
      "outputs": [
        {
          "name": "stdout",
          "output_type": "stream",
          "text": [
            "Enter a number : 3\n",
            "Enter a number : 7\n",
            "Enter a number : 1\n",
            "7 is the largest number\n"
          ]
        }
      ],
      "source": [
        "a=int(input(\"Enter a number : \"))\n",
        "b=int(input(\"Enter a number : \"))\n",
        "c=int(input(\"Enter a number : \"))\n",
        "if a>b and a>c:\n",
        "    print(f\"{a} is the largest number\")\n",
        "elif b>a and b>c:\n",
        "    print(f\"{b} is the largest number\")\n",
        "else:\n",
        "    print(f\"{c} is the largest number\")"
      ]
    },
    {
      "cell_type": "markdown",
      "metadata": {
        "id": "uUIjQeKx7mgf"
      },
      "source": [
        "8.\tImplement a program that gives feedback based on a user's score (A, B, C, D, F)."
      ]
    },
    {
      "cell_type": "code",
      "execution_count": null,
      "metadata": {
        "colab": {
          "base_uri": "https://localhost:8080/"
        },
        "id": "oDeXF6UU75Qb",
        "outputId": "1cc37440-e04e-43b9-d169-788ab9c59865"
      },
      "outputs": [
        {
          "name": "stdout",
          "output_type": "stream",
          "text": [
            "Enter a sore : 99\n",
            "Grade is A\n"
          ]
        }
      ],
      "source": [
        "a=int(input(\"Enter a sore : \"))\n",
        "if a>=90:\n",
        "    print(\"Grade is A\")\n",
        "elif a>=80 and a<90:\n",
        "    print(\"Grade is B\")\n",
        "elif a>=70 and a<80:\n",
        "    print(\"Grade is C\")\n",
        "elif a>=60 and a<70:\n",
        "    print(\"Grade is D\")\n",
        "else:\n",
        "    print(\"Grade is F\")"
      ]
    },
    {
      "cell_type": "markdown",
      "metadata": {
        "id": "SyBuLrEc8w_Z"
      },
      "source": [
        "9.\tWrite a program to check if a year is a leap year."
      ]
    },
    {
      "cell_type": "code",
      "execution_count": null,
      "metadata": {
        "colab": {
          "base_uri": "https://localhost:8080/"
        },
        "id": "o5S3NxtS84M3",
        "outputId": "acf56f1f-6df0-4b4f-a5e0-f83627977e28"
      },
      "outputs": [
        {
          "name": "stdout",
          "output_type": "stream",
          "text": [
            "Enter a year : 2016\n",
            "2016 is a leap year\n"
          ]
        }
      ],
      "source": [
        "a=int(input(\"Enter a year : \"))\n",
        "if a%4==0:\n",
        "    print(f\"{a} is a leap year\")\n",
        "else:\n",
        "    print(f\"{a} is not a leap year\")"
      ]
    },
    {
      "cell_type": "markdown",
      "metadata": {
        "id": "tSMfdyIJ9IS9"
      },
      "source": [
        "10.\tDevelop a simple login system that checks a username and password."
      ]
    },
    {
      "cell_type": "code",
      "execution_count": null,
      "metadata": {
        "colab": {
          "base_uri": "https://localhost:8080/"
        },
        "id": "CFwxvBGP9M7v",
        "outputId": "ce1a8138-4c6a-4042-edee-717c279ea4f7"
      },
      "outputs": [
        {
          "name": "stdout",
          "output_type": "stream",
          "text": [
            "Username: Pooja Choudhary\n",
            "Password: 12345678\n",
            "Login successful!\n"
          ]
        }
      ],
      "source": [
        "def login():\n",
        "    username = input(\"Username: \")\n",
        "    password = input(\"Password: \")\n",
        "\n",
        "    if username == \"Pooja Choudhary\" and password == \"12345678\":\n",
        "        print(\"Login successful!\")\n",
        "    else:\n",
        "        print(\"Login failed. Invalid username or password.\")\n",
        "\n",
        "login()"
      ]
    },
    {
      "cell_type": "markdown",
      "metadata": {
        "id": "FVwAzlEY-dsJ"
      },
      "source": [
        "11.\tWrite a Python program that counts the number of vowels in a given string."
      ]
    },
    {
      "cell_type": "code",
      "execution_count": null,
      "metadata": {
        "colab": {
          "base_uri": "https://localhost:8080/"
        },
        "id": "UpNnteO_-pa4",
        "outputId": "ef7ff530-ea69-4445-ca5a-d3f908b566df"
      },
      "outputs": [
        {
          "name": "stdout",
          "output_type": "stream",
          "text": [
            "Enter a string : Pooja\n",
            "Number of vowels :  3\n"
          ]
        }
      ],
      "source": [
        "a = input(\"Enter a string : \")\n",
        "vowels = \"aeiouAEIOU\"\n",
        "count = 0\n",
        "\n",
        "for char in a:\n",
        "  if char in vowels:\n",
        "    count += 1\n",
        "\n",
        "print(\"Number of vowels : \", count)"
      ]
    },
    {
      "cell_type": "markdown",
      "metadata": {
        "id": "gEfENiqF_Rj1"
      },
      "source": [
        "12.\tCreate a function that removes all whitespace from a user-inputted string."
      ]
    },
    {
      "cell_type": "code",
      "execution_count": null,
      "metadata": {
        "colab": {
          "base_uri": "https://localhost:8080/"
        },
        "id": "YEnv3dyv_WLe",
        "outputId": "9682721f-fde3-4fe2-daa9-157283c391e6"
      },
      "outputs": [
        {
          "name": "stdout",
          "output_type": "stream",
          "text": [
            "Enter a string : pooja choudhary\n",
            "poojachoudhary\n"
          ]
        }
      ],
      "source": [
        "a = input(\"Enter a string : \")\n",
        "b = a.replace(\" \",\"\")\n",
        "print(b)\n",
        "\n",
        "\n"
      ]
    },
    {
      "cell_type": "markdown",
      "metadata": {
        "id": "KPsnGJ98Ubej"
      },
      "source": [
        "13.\tImplement a program to check if two strings are anagrams of each other."
      ]
    },
    {
      "cell_type": "code",
      "execution_count": null,
      "metadata": {
        "colab": {
          "base_uri": "https://localhost:8080/"
        },
        "id": "ctEiUunfVLUj",
        "outputId": "5797efc6-ebb9-4b0a-ccba-0061bad2a925"
      },
      "outputs": [
        {
          "name": "stdout",
          "output_type": "stream",
          "text": [
            "Enter a string : listen\n",
            "Enter a string : silent\n",
            "Strings are anagrams\n"
          ]
        }
      ],
      "source": [
        "a=input(\"Enter a string : \")\n",
        "b=input(\"Enter a string : \")\n",
        "if sorted(a)==sorted(b):\n",
        "    print(\"Strings are anagrams\")\n",
        "else:\n",
        "    print(\"Strings are not anagrams\")"
      ]
    },
    {
      "cell_type": "markdown",
      "metadata": {
        "id": "z_IuodvFWvLa"
      },
      "source": [
        "14.\tWrite a program to count the frequency of words in a given sentence."
      ]
    },
    {
      "cell_type": "code",
      "execution_count": null,
      "metadata": {
        "colab": {
          "base_uri": "https://localhost:8080/"
        },
        "id": "ORt59UsrXHNe",
        "outputId": "c2aee6af-fa18-4648-bda5-0cbc85136a57"
      },
      "outputs": [
        {
          "name": "stdout",
          "output_type": "stream",
          "text": [
            "Enter a sentence : piyush pagal piyush\n",
            "{'piyush': 2, 'pagal': 1}\n"
          ]
        }
      ],
      "source": [
        "a=input(\"Enter a sentence : \")\n",
        "b=a.split()\n",
        "c={}\n",
        "for i in b:\n",
        "    if i in c:\n",
        "        c[i]+=1\n",
        "    else:\n",
        "        c[i]=1\n",
        "print(c)"
      ]
    },
    {
      "cell_type": "markdown",
      "metadata": {
        "id": "9QJR4vZHZAQt"
      },
      "source": [
        "15.\tCreate a function that replaces every occurrence of a substring with another substring in a string."
      ]
    },
    {
      "cell_type": "code",
      "execution_count": null,
      "metadata": {
        "colab": {
          "base_uri": "https://localhost:8080/"
        },
        "id": "GqPe0EX1ZFhp",
        "outputId": "55c53f0d-5d3f-40d4-ec00-fb19b9f26c10"
      },
      "outputs": [
        {
          "name": "stdout",
          "output_type": "stream",
          "text": [
            "Enter a string : piyush\n",
            "Enter old substring : yu\n",
            "Enter new substring : ya\n",
            "piyash\n"
          ]
        }
      ],
      "source": [
        "def replace_substring(string, old_substring, new_substring):\n",
        "    return string.replace(old_substring, new_substring)\n",
        "\n",
        "string = input(\"Enter a string : \")\n",
        "old = input(\"Enter old substring : \")\n",
        "new = input(\"Enter new substring : \")\n",
        "\n",
        "result = replace_substring(string, old, new)\n",
        "print(result)"
      ]
    },
    {
      "cell_type": "markdown",
      "metadata": {
        "id": "W74AMEIYbpIi"
      },
      "source": [
        "16.\tWrite a program that generates the first 10 Fibonacci numbers using iteration."
      ]
    },
    {
      "cell_type": "code",
      "execution_count": null,
      "metadata": {
        "colab": {
          "base_uri": "https://localhost:8080/"
        },
        "id": "kAFUPIbycMQX",
        "outputId": "9be8e8fd-b9cd-43a8-d38d-2fdb0ad7b6a9"
      },
      "outputs": [
        {
          "name": "stdout",
          "output_type": "stream",
          "text": [
            "enter a number : 10\n",
            "0\n",
            "1\n",
            "1\n",
            "2\n",
            "3\n",
            "5\n",
            "8\n",
            "13\n",
            "21\n",
            "34\n"
          ]
        }
      ],
      "source": [
        "a=int(input(\"enter a number : \"))\n",
        "b=0\n",
        "c=1\n",
        "print(b)\n",
        "print(c)\n",
        "for i in range(2,a):\n",
        "    d=b+c\n",
        "    b=c\n",
        "    c=d\n",
        "    print(d)"
      ]
    },
    {
      "cell_type": "markdown",
      "metadata": {
        "id": "Hk2_BiHhdIOZ"
      },
      "source": [
        "17.\tCreate a program that sums all even numbers from 1 to 100."
      ]
    },
    {
      "cell_type": "code",
      "execution_count": null,
      "metadata": {
        "colab": {
          "base_uri": "https://localhost:8080/"
        },
        "id": "nz9LDkwIdPBi",
        "outputId": "2d2f5899-6103-4d1f-e2e0-373dc2229603"
      },
      "outputs": [
        {
          "data": {
            "text/plain": [
              "2550"
            ]
          },
          "execution_count": 17,
          "metadata": {},
          "output_type": "execute_result"
        }
      ],
      "source": [
        "def func():\n",
        "  sum=0\n",
        "  for i in range(1,101):\n",
        "    if i%2==0:\n",
        "      sum=sum+i\n",
        "  return sum\n",
        "func()"
      ]
    },
    {
      "cell_type": "markdown",
      "metadata": {
        "id": "LVEk52cEdq6y"
      },
      "source": [
        "18.\tWrite a Python script that prints the multiplication table of a user-defined number."
      ]
    },
    {
      "cell_type": "code",
      "execution_count": null,
      "metadata": {
        "colab": {
          "base_uri": "https://localhost:8080/"
        },
        "id": "fSkp-RPidv32",
        "outputId": "afc0ee9f-f91d-45cd-eca7-cbfa6b7d3a52"
      },
      "outputs": [
        {
          "name": "stdout",
          "output_type": "stream",
          "text": [
            "Enter a number to generate multiplication table : 2345\n",
            "2345 x 1 = 2345\n",
            "2345 x 2 = 4690\n",
            "2345 x 3 = 7035\n",
            "2345 x 4 = 9380\n",
            "2345 x 5 = 11725\n",
            "2345 x 6 = 14070\n",
            "2345 x 7 = 16415\n",
            "2345 x 8 = 18760\n",
            "2345 x 9 = 21105\n",
            "2345 x 10 = 23450\n"
          ]
        }
      ],
      "source": [
        "a=int(input(\"Enter a number to generate multiplication table : \"))\n",
        "for i in range(1,11):\n",
        "    print(f\"{a} x {i} = {a*i}\")"
      ]
    },
    {
      "cell_type": "markdown",
      "metadata": {
        "id": "1yAmYeOHfEg0"
      },
      "source": [
        "19.\tDevelop a program that calculates the factorial of a number using a loop."
      ]
    },
    {
      "cell_type": "code",
      "execution_count": null,
      "metadata": {
        "colab": {
          "base_uri": "https://localhost:8080/"
        },
        "id": "9eJeUElsfLDl",
        "outputId": "230fbdda-78bf-4315-a40b-9491a4d7dfc2"
      },
      "outputs": [
        {
          "name": "stdout",
          "output_type": "stream",
          "text": [
            "Enter a number : 7\n",
            "5040\n"
          ]
        }
      ],
      "source": [
        "a=int(input(\"Enter a number : \"))\n",
        "b=1\n",
        "for i in range(1,1+a):\n",
        "  b=b*i\n",
        "print(b)"
      ]
    },
    {
      "cell_type": "markdown",
      "metadata": {
        "id": "qYpXc3WzfrYN"
      },
      "source": [
        "20.\tCreate a function that lists all prime numbers up to a specified limit."
      ]
    },
    {
      "cell_type": "code",
      "execution_count": null,
      "metadata": {
        "colab": {
          "base_uri": "https://localhost:8080/"
        },
        "id": "1Zsk6bo-fxCG",
        "outputId": "cdbff487-05c9-4d55-894a-5f204270b1d2"
      },
      "outputs": [
        {
          "name": "stdout",
          "output_type": "stream",
          "text": [
            "Enter a number : 7\n",
            "2\n",
            "3\n",
            "5\n",
            "7\n"
          ]
        }
      ],
      "source": [
        "a=int(input(\"Enter a number : \"))\n",
        "for i in range(2,a+1):\n",
        "    for j in range(2,i):\n",
        "        if i%j==0:\n",
        "            break\n",
        "    else:\n",
        "        print(i)"
      ]
    },
    {
      "cell_type": "markdown",
      "metadata": {
        "id": "MvYAWkiFgT4C"
      },
      "source": [
        "21.\tWrite a function that calculates the greatest common divisor (GCD) of two numbers."
      ]
    },
    {
      "cell_type": "code",
      "execution_count": null,
      "metadata": {
        "colab": {
          "base_uri": "https://localhost:8080/"
        },
        "id": "l-sdqAZugfsq",
        "outputId": "4545ecad-c049-4d3e-9dd1-e128b9a45c3e"
      },
      "outputs": [
        {
          "name": "stdout",
          "output_type": "stream",
          "text": [
            "Enter a number : 8\n",
            "Enter a number : 4\n",
            "4\n"
          ]
        }
      ],
      "source": [
        "a=int(input(\"Enter a number : \"))\n",
        "b=int(input(\"Enter a number : \"))\n",
        "if a<b:\n",
        "    c=a\n",
        "else:\n",
        "    c=b\n",
        "for i in range(1,c+1):\n",
        "    if a%i==0 and b%i==0:\n",
        "        gcd=i\n",
        "print(gcd)"
      ]
    },
    {
      "cell_type": "markdown",
      "metadata": {
        "id": "xgBax_zOg7Dj"
      },
      "source": [
        "22.\tCreate a Python function that takes a list of numbers and returns the largest number."
      ]
    },
    {
      "cell_type": "code",
      "execution_count": null,
      "metadata": {
        "colab": {
          "base_uri": "https://localhost:8080/",
          "height": 54
        },
        "id": "CwQR7HOchIqq",
        "outputId": "5e3c2bb9-7c45-4e8a-cd06-22b72cdca1b3"
      },
      "outputs": [
        {
          "name": "stdout",
          "output_type": "stream",
          "text": [
            "Enter the number of element : 1 2 3 4 5 6 7 8 9\n"
          ]
        },
        {
          "data": {
            "application/vnd.google.colaboratory.intrinsic+json": {
              "type": "string"
            },
            "text/plain": [
              "'9'"
            ]
          },
          "execution_count": 30,
          "metadata": {},
          "output_type": "execute_result"
        }
      ],
      "source": [
        "def func(a):\n",
        "  b=a[0]\n",
        "  for i in a:\n",
        "    if i>b:\n",
        "      b=i\n",
        "  return b\n",
        "\n",
        "a=input(\"Enter the number of element : \")\n",
        "func(a)"
      ]
    },
    {
      "cell_type": "markdown",
      "metadata": {
        "id": "ogyNkKtmh_kd"
      },
      "source": [
        "22.\tCreate a Python function that takes a list of numbers and returns the largest number."
      ]
    },
    {
      "cell_type": "code",
      "execution_count": null,
      "metadata": {
        "colab": {
          "base_uri": "https://localhost:8080/"
        },
        "id": "vrxgy5APiER_",
        "outputId": "328f01fd-b7c3-448d-e741-a1728b063795"
      },
      "outputs": [
        {
          "name": "stdout",
          "output_type": "stream",
          "text": [
            "Enter the number of element : 11 12 13 14 11 23 67 45\n"
          ]
        },
        {
          "data": {
            "text/plain": [
              "67"
            ]
          },
          "execution_count": 33,
          "metadata": {},
          "output_type": "execute_result"
        }
      ],
      "source": [
        "def func():\n",
        "  a=input(\"Enter the number of element : \")\n",
        "  b=a.split()\n",
        "  c=[]\n",
        "  for i in b:\n",
        "    c.append(int(i))\n",
        "  d=c[0]\n",
        "  for i in c:\n",
        "    if i>d:\n",
        "      d=i\n",
        "  return d\n",
        "func()"
      ]
    },
    {
      "cell_type": "markdown",
      "metadata": {
        "id": "ZdkcuLlvjvSh"
      },
      "source": [
        "24.\tWrite a program that utilizes global variables and demonstrates their use in functions."
      ]
    },
    {
      "cell_type": "code",
      "execution_count": null,
      "metadata": {
        "colab": {
          "base_uri": "https://localhost:8080/"
        },
        "id": "fx0xfG_Uj2Ly",
        "outputId": "59b374c2-afff-427f-d15e-8a191d5f2b75"
      },
      "outputs": [
        {
          "name": "stdout",
          "output_type": "stream",
          "text": [
            "Before function call: 10\n",
            "Inside the function: 20\n",
            "After function call: 20\n"
          ]
        }
      ],
      "source": [
        "global_var = 10\n",
        "\n",
        "def my_function():\n",
        "    global global_var\n",
        "    global_var = 20\n",
        "    print(\"Inside the function:\", global_var)\n",
        "\n",
        "print(\"Before function call:\", global_var)\n",
        "my_function()\n",
        "print(\"After function call:\", global_var)\n"
      ]
    },
    {
      "cell_type": "markdown",
      "metadata": {
        "id": "sEpKRV68LOJW"
      },
      "source": [
        "25.Develop a module that contains utility functions for string manipulations."
      ]
    },
    {
      "cell_type": "code",
      "execution_count": null,
      "metadata": {
        "id": "aglxvbLuMLk3"
      },
      "outputs": [],
      "source": [
        "def reverse_string(text):\n",
        "    return text[::-1]\n",
        "\n",
        "def is_palindrome(text):\n",
        "    return text == text[::-1]\n",
        "\n",
        "def count_vowels(text):\n",
        "    vowels = \"aeiouAEIOU\"\n",
        "    return sum(1 for char in text if char in vowels)"
      ]
    },
    {
      "cell_type": "code",
      "execution_count": null,
      "metadata": {
        "colab": {
          "base_uri": "https://localhost:8080/"
        },
        "id": "AZ7ptmE0MRVT",
        "outputId": "8b8c3ed9-2cba-48dc-d8b4-eb590027a3ff"
      },
      "outputs": [
        {
          "output_type": "stream",
          "name": "stdout",
          "text": [
            "dlrow olleH\n",
            "False\n"
          ]
        }
      ],
      "source": [
        "string1 = \"Hello world\"\n",
        "reverse_string = reverse_string(string1)\n",
        "stringnospace = is_palindrome(string1)\n",
        "print(reverse_string)\n",
        "print(stringnospace)\n",
        "\n"
      ]
    },
    {
      "cell_type": "markdown",
      "metadata": {
        "id": "4MsSy4lxNL6w"
      },
      "source": [
        "26.\tWrite a simple testing script that verifies the functionality of your calculator from a previous assignment."
      ]
    },
    {
      "cell_type": "code",
      "execution_count": null,
      "metadata": {
        "colab": {
          "base_uri": "https://localhost:8080/"
        },
        "id": "LLwVzT2TNmbl",
        "outputId": "59f91830-196f-486d-8a3d-2da1f2c9bd25"
      },
      "outputs": [
        {
          "name": "stdout",
          "output_type": "stream",
          "text": [
            "All test cases passed!\n"
          ]
        }
      ],
      "source": [
        "def calculator(a, b, c):\n",
        "    if c == \"+\":\n",
        "        return a + b\n",
        "    elif c == \"-\":\n",
        "        return a - b\n",
        "    elif c == \"*\":\n",
        "        return a * b\n",
        "    elif c == \"/\":\n",
        "        return a / b\n",
        "\n",
        "# This is the testing script\n",
        "def test_calculator():\n",
        "    # Test cases for addition\n",
        "    assert calculator(2, 3, \"+\") == 5\n",
        "    assert calculator(-2, 3, \"+\") == 1\n",
        "    assert calculator(2, -3, \"+\") == -1\n",
        "\n",
        "    # Test cases for subtraction\n",
        "    assert calculator(5, 3, \"-\") == 2\n",
        "    assert calculator(-5, 3, \"-\") == -8\n",
        "    assert calculator(5, -3, \"-\") == 8\n",
        "\n",
        "    # Test cases for multiplication\n",
        "    assert calculator(2, 3, \"*\") == 6\n",
        "    assert calculator(-2, 3, \"*\") == -6\n",
        "    assert calculator(2, -3, \"*\") == -6\n",
        "\n",
        "    # Test cases for division\n",
        "    assert calculator(6, 3, \"/\") == 2\n",
        "    assert calculator(-6, 3, \"/\") == -2\n",
        "    assert calculator(6, -3, \"/\") == -2\n",
        "\n",
        "    print(\"All test cases passed!\")\n",
        "\n",
        "test_calculator()"
      ]
    },
    {
      "cell_type": "markdown",
      "metadata": {
        "id": "XX8V13dNNxbo"
      },
      "source": [
        "27.\tCreate a program that includes debugging statements to show the flow of execution."
      ]
    },
    {
      "cell_type": "code",
      "execution_count": null,
      "metadata": {
        "colab": {
          "base_uri": "https://localhost:8080/"
        },
        "id": "e50dPCM2OHeo",
        "outputId": "d25e6adc-6bda-4ff9-d72b-fe9dd92af93c"
      },
      "outputs": [
        {
          "name": "stdout",
          "output_type": "stream",
          "text": [
            "Enter a number: 5\n",
            "Entering factorial function with n = 5\n",
            "Iteration 1: result = 1, i = 1\n",
            "Iteration 2: result = 1, i = 2\n",
            "Iteration 3: result = 2, i = 3\n",
            "Iteration 4: result = 6, i = 4\n",
            "Iteration 5: result = 24, i = 5\n",
            "Exiting factorial function with result = 120\n",
            "The factorial of 5 is 120\n"
          ]
        }
      ],
      "source": [
        "def factorial(n):\n",
        "    \"Calculates the factorial of a number.\"\n",
        "    print(f\"Entering factorial function with n = {n}\")\n",
        "    result = 1\n",
        "    for i in range(1, n + 1):\n",
        "        print(f\"Iteration {i}: result = {result}, i = {i}\")\n",
        "        result *= i\n",
        "    print(f\"Exiting factorial function with result = {result}\")\n",
        "    return result\n",
        "\n",
        "num = int(input(\"Enter a number: \"))\n",
        "\n",
        "fact = factorial(num)\n",
        "\n",
        "print(f\"The factorial of {num} is {fact}\")"
      ]
    },
    {
      "cell_type": "markdown",
      "metadata": {
        "id": "0i5S2OJ5OK4D"
      },
      "source": [
        "28.\tImplement a function and write unit tests to confirm its correctness using assertions."
      ]
    },
    {
      "cell_type": "code",
      "execution_count": null,
      "metadata": {
        "colab": {
          "base_uri": "https://localhost:8080/"
        },
        "id": "URwMnbXbOypp",
        "outputId": "a7752ca2-ccbd-4193-86d5-552623490b34"
      },
      "outputs": [
        {
          "name": "stdout",
          "output_type": "stream",
          "text": [
            "All test cases passed!\n"
          ]
        }
      ],
      "source": [
        "def add_numbers(a, b):\n",
        "    \"Adds two numbers together.\"\n",
        "    return a + b\n",
        "\n",
        "def test_add_numbers():\n",
        "    \"Tests the add_numbers function.\"\n",
        "    assert add_numbers(2, 3) == 5, \"2 + 3 should equal 5\"\n",
        "    assert add_numbers(-2, 3) == 1, \"-2 + 3 should equal 1\"\n",
        "    assert add_numbers(2, -3) == -1, \"2 + (-3) should equal -1\"\n",
        "    assert add_numbers(0, 0) == 0, \"0 + 0 should equal 0\"\n",
        "    print(\"All test cases passed!\")\n",
        "\n",
        "test_add_numbers()"
      ]
    },
    {
      "cell_type": "markdown",
      "metadata": {
        "id": "LPvu2VWhO971"
      },
      "source": [
        "29.\tWrite a program that intentionally has a bug, and then demonstrate how to fix it."
      ]
    },
    {
      "source": [
        "def calculate_average(numbers):\n",
        "  \"Calculates the average of a list of numbers.\"\n",
        "  total = sum(numbers)\n",
        "  average = total / len(numbers)  # Potential ZeroDivisionError\n",
        "  return average\n",
        "\n",
        "numbers = [10, 20, 30, 40, 50]\n",
        "avg = calculate_average(numbers)\n",
        "print(f\"The average is: {avg}\")\n",
        "\n",
        "numbers = []  # Empty list\n",
        "avg = calculate_average(numbers)  # This will cause an error\n",
        "print(f\"The average is: {avg}\")"
      ],
      "cell_type": "code",
      "metadata": {
        "colab": {
          "base_uri": "https://localhost:8080/",
          "height": 346
        },
        "id": "4MZ_d4-G9GVZ",
        "outputId": "0b50f73b-9a73-4d93-f433-2b8e30f79fd2"
      },
      "execution_count": null,
      "outputs": [
        {
          "output_type": "stream",
          "name": "stdout",
          "text": [
            "The average is: 30.0\n"
          ]
        },
        {
          "output_type": "error",
          "ename": "ZeroDivisionError",
          "evalue": "division by zero",
          "traceback": [
            "\u001b[0;31m---------------------------------------------------------------------------\u001b[0m",
            "\u001b[0;31mZeroDivisionError\u001b[0m                         Traceback (most recent call last)",
            "\u001b[0;32m<ipython-input-12-00db86da4441>\u001b[0m in \u001b[0;36m<cell line: 12>\u001b[0;34m()\u001b[0m\n\u001b[1;32m     10\u001b[0m \u001b[0;34m\u001b[0m\u001b[0m\n\u001b[1;32m     11\u001b[0m \u001b[0mnumbers\u001b[0m \u001b[0;34m=\u001b[0m \u001b[0;34m[\u001b[0m\u001b[0;34m]\u001b[0m  \u001b[0;31m# Empty list\u001b[0m\u001b[0;34m\u001b[0m\u001b[0;34m\u001b[0m\u001b[0m\n\u001b[0;32m---> 12\u001b[0;31m \u001b[0mavg\u001b[0m \u001b[0;34m=\u001b[0m \u001b[0mcalculate_average\u001b[0m\u001b[0;34m(\u001b[0m\u001b[0mnumbers\u001b[0m\u001b[0;34m)\u001b[0m  \u001b[0;31m# This will cause an error\u001b[0m\u001b[0;34m\u001b[0m\u001b[0;34m\u001b[0m\u001b[0m\n\u001b[0m\u001b[1;32m     13\u001b[0m \u001b[0mprint\u001b[0m\u001b[0;34m(\u001b[0m\u001b[0;34mf\"The average is: {avg}\"\u001b[0m\u001b[0;34m)\u001b[0m\u001b[0;34m\u001b[0m\u001b[0;34m\u001b[0m\u001b[0m\n",
            "\u001b[0;32m<ipython-input-12-00db86da4441>\u001b[0m in \u001b[0;36mcalculate_average\u001b[0;34m(numbers)\u001b[0m\n\u001b[1;32m      2\u001b[0m   \u001b[0;34m\"\"\"Calculates the average of a list of numbers.\"\"\"\u001b[0m\u001b[0;34m\u001b[0m\u001b[0;34m\u001b[0m\u001b[0m\n\u001b[1;32m      3\u001b[0m   \u001b[0mtotal\u001b[0m \u001b[0;34m=\u001b[0m \u001b[0msum\u001b[0m\u001b[0;34m(\u001b[0m\u001b[0mnumbers\u001b[0m\u001b[0;34m)\u001b[0m\u001b[0;34m\u001b[0m\u001b[0;34m\u001b[0m\u001b[0m\n\u001b[0;32m----> 4\u001b[0;31m   \u001b[0maverage\u001b[0m \u001b[0;34m=\u001b[0m \u001b[0mtotal\u001b[0m \u001b[0;34m/\u001b[0m \u001b[0mlen\u001b[0m\u001b[0;34m(\u001b[0m\u001b[0mnumbers\u001b[0m\u001b[0;34m)\u001b[0m  \u001b[0;31m# Potential ZeroDivisionError\u001b[0m\u001b[0;34m\u001b[0m\u001b[0;34m\u001b[0m\u001b[0m\n\u001b[0m\u001b[1;32m      5\u001b[0m   \u001b[0;32mreturn\u001b[0m \u001b[0maverage\u001b[0m\u001b[0;34m\u001b[0m\u001b[0;34m\u001b[0m\u001b[0m\n\u001b[1;32m      6\u001b[0m \u001b[0;34m\u001b[0m\u001b[0m\n",
            "\u001b[0;31mZeroDivisionError\u001b[0m: division by zero"
          ]
        }
      ]
    },
    {
      "cell_type": "code",
      "execution_count": null,
      "metadata": {
        "colab": {
          "base_uri": "https://localhost:8080/"
        },
        "id": "mfocQt2tQhng",
        "outputId": "733cd033-dadd-4362-81e4-eabad56af463"
      },
      "outputs": [
        {
          "name": "stdout",
          "output_type": "stream",
          "text": [
            "The average is: 30.0\n",
            "The average is: 0\n"
          ]
        }
      ],
      "source": [
        "def calculate_average(numbers):\n",
        "    \"Calculates the average of a list of numbers.\"\n",
        "    total = sum(numbers)\n",
        "    if len(numbers) == 0:  # Check if the list is empty\n",
        "        return 0\n",
        "    else:\n",
        "        average = total / len(numbers)\n",
        "        return average\n",
        "\n",
        "numbers = [10, 20, 30, 40, 50]\n",
        "avg = calculate_average(numbers)\n",
        "print(f\"The average is: {avg}\")\n",
        "\n",
        "numbers = []\n",
        "avg = calculate_average(numbers)\n",
        "print(f\"The average is: {avg}\")"
      ]
    },
    {
      "cell_type": "markdown",
      "metadata": {
        "id": "2R8HcPLHQmPS"
      },
      "source": [
        "30.\tCreate a logging system that tracks function calls and their parameters."
      ]
    },
    {
      "cell_type": "code",
      "execution_count": null,
      "metadata": {
        "colab": {
          "base_uri": "https://localhost:8080/"
        },
        "id": "DZr-IiI6Q2dL",
        "outputId": "c949690e-d36a-4e34-9377-f31855353299"
      },
      "outputs": [
        {
          "name": "stdout",
          "output_type": "stream",
          "text": [
            "Result: 10\n"
          ]
        }
      ],
      "source": [
        "import logging\n",
        "import functools\n",
        "\n",
        "logging.basicConfig(filename='function_calls.log', level=logging.INFO,\n",
        "                    format='%(asctime)s - %(name)s - %(levelname)s - %(message)s')\n",
        "logger = logging.getLogger(__name__)\n",
        "\n",
        "def log_function_call(func):\n",
        "    \"Decorator to log function calls and parameters.\"\n",
        "    @functools.wraps(func)\n",
        "    def wrapper(*args, **kwargs):\n",
        "        logger.info(f\"Calling function: {func.__name__} with args: {args}, kwargs: {kwargs}\")\n",
        "\n",
        "        result = func(*args, **kwargs)\n",
        "\n",
        "        logger.info(f\"Function {func.__name__} returned: {result}\")\n",
        "\n",
        "        return result\n",
        "    return wrapper\n",
        "\n",
        "@log_function_call\n",
        "def my_function(a, b, c=10):\n",
        "    \"This is an example function.\"\n",
        "    return a + b + c\n",
        "\n",
        "result = my_function(2, 3, c=5)\n",
        "print(f\"Result: {result}\")"
      ]
    },
    {
      "cell_type": "markdown",
      "metadata": {
        "id": "faMVChEeQ-l5"
      },
      "source": [
        "31.\tWrite a Python script to demonstrate the usage of tuples for storing coordinates."
      ]
    },
    {
      "cell_type": "code",
      "execution_count": null,
      "metadata": {
        "colab": {
          "base_uri": "https://localhost:8080/"
        },
        "id": "trPeLebmRS1h",
        "outputId": "fd80ba29-7c64-477d-b883-3214b07d378a"
      },
      "outputs": [
        {
          "name": "stdout",
          "output_type": "stream",
          "text": [
            "Point 1: x = 2, y = 3\n",
            "Point 2: x = 5, y = 7\n",
            "Distance between Point 1 and Point 2: 5.0\n",
            "Point: (1, 2)\n",
            "Point: (3, 4)\n",
            "Point: (5, 6)\n"
          ]
        }
      ],
      "source": [
        "point1 = (2, 3)   #(x=2, y=3)\n",
        "point2 = (5, 7)  # (x=5, y=7)\n",
        "\n",
        "# Accessing coordinates\n",
        "x1, y1 = point1\n",
        "x2, y2 = point2\n",
        "\n",
        "print(f\"Point 1: x = {x1}, y = {y1}\")\n",
        "print(f\"Point 2: x = {x2}, y = {y2}\")\n",
        "\n",
        "# Calculate distance between two points\n",
        "distance = ((x2 - x1)**2 + (y2 - y1)**2)**0.5\n",
        "print(f\"Distance between Point 1 and Point 2: {distance}\")\n",
        "\n",
        "# Create a list of coordinate tuples\n",
        "points = [(1, 2), (3, 4), (5, 6)]\n",
        "\n",
        "# Iterate through the list of points\n",
        "for x, y in points:\n",
        "    print(f\"Point: ({x}, {y})\")"
      ]
    },
    {
      "cell_type": "markdown",
      "metadata": {
        "id": "ssYmo4U_RWae"
      },
      "source": [
        "32.\tCreate a program that uses lists and demonstrates mutability by modifying the list items."
      ]
    },
    {
      "cell_type": "code",
      "execution_count": null,
      "metadata": {
        "colab": {
          "base_uri": "https://localhost:8080/"
        },
        "id": "ZepBa9rhRnOn",
        "outputId": "51bc11e6-e31d-463e-8aeb-cafa6137176b"
      },
      "outputs": [
        {
          "name": "stdout",
          "output_type": "stream",
          "text": [
            "Original list: [1, 2, 3, 4, 5]\n",
            "Modified list: [10, 2, 30, 4, 5]\n",
            "List after appending: [10, 2, 30, 4, 5, 6]\n",
            "List after inserting: [10, 2, 25, 30, 4, 5, 6]\n",
            "List after removing: [10, 2, 25, 30, 5, 6]\n"
          ]
        }
      ],
      "source": [
        "my_list = [1, 2, 3, 4, 5]\n",
        "\n",
        "print(\"Original list:\", my_list)\n",
        "\n",
        "my_list[0] = 10  # Change the first element to 10\n",
        "my_list[2] = 30  # Change the third element to 30\n",
        "\n",
        "print(\"Modified list:\", my_list)\n",
        "\n",
        "my_list.append(6)\n",
        "\n",
        "print(\"List after appending:\", my_list)\n",
        "\n",
        "my_list.insert(2, 25)\n",
        "\n",
        "print(\"List after inserting:\", my_list)\n",
        "\n",
        "my_list.remove(4)\n",
        "\n",
        "print(\"List after removing:\", my_list)"
      ]
    },
    {
      "cell_type": "markdown",
      "metadata": {
        "id": "BrAAaSVuRqtw"
      },
      "source": [
        "33.\tImplement a higher-order function that takes another function as an argument and applies it to a list."
      ]
    },
    {
      "cell_type": "code",
      "execution_count": null,
      "metadata": {
        "colab": {
          "base_uri": "https://localhost:8080/"
        },
        "id": "CvE-iLdyRypb",
        "outputId": "312178e0-9f33-4a18-a03f-5b0c5b675168"
      },
      "outputs": [
        {
          "name": "stdout",
          "output_type": "stream",
          "text": [
            "Original list: [1, 2, 3, 4, 5]\n",
            "Squared list: [1, 4, 9, 16, 25]\n"
          ]
        }
      ],
      "source": [
        "def apply_to_list(func, my_list):\n",
        "    \"Applies a function to each element of a list and returns a new list with the results.\"\n",
        "    return [func(item) for item in my_list]\n",
        "\n",
        "def square(x):\n",
        "    return x * x\n",
        "\n",
        "numbers = [1, 2, 3, 4, 5]\n",
        "\n",
        "squared_numbers = apply_to_list(square, numbers)\n",
        "\n",
        "print(\"Original list:\", numbers)\n",
        "print(\"Squared list:\", squared_numbers)"
      ]
    },
    {
      "cell_type": "markdown",
      "metadata": {
        "id": "yWpENVXnScT-"
      },
      "source": [
        "34.\tWrite a program to simulate a simple inventory system using dictionaries."
      ]
    },
    {
      "cell_type": "code",
      "execution_count": null,
      "metadata": {
        "colab": {
          "base_uri": "https://localhost:8080/"
        },
        "id": "IyRPjrJcSkb2",
        "outputId": "9b9431a0-4c15-423a-a7b1-efb5364a5130"
      },
      "outputs": [
        {
          "name": "stdout",
          "output_type": "stream",
          "text": [
            "10 apple added to inventory.\n",
            "5 banana added to inventory.\n",
            "12 orange added to inventory.\n",
            "Current Inventory:\n",
            "apple: 10\n",
            "banana: 5\n",
            "orange: 12\n",
            "3 banana removed from inventory.\n",
            "Not enough apple in inventory.\n",
            "Current Inventory:\n",
            "apple: 10\n",
            "banana: 2\n",
            "orange: 12\n"
          ]
        }
      ],
      "source": [
        "def add_item(inventory, item_name, quantity):\n",
        "    \"Adds an item to the inventory or updates the quantity if it already exists.\"\n",
        "    if item_name in inventory:\n",
        "        inventory[item_name] += quantity\n",
        "    else:\n",
        "        inventory[item_name] = quantity\n",
        "    print(f\"{quantity} {item_name} added to inventory.\")\n",
        "\n",
        "def remove_item(inventory, item_name, quantity):\n",
        "    \"Removes an item from the inventory or reduces the quantity if it exists.\"\n",
        "    if item_name in inventory:\n",
        "        if inventory[item_name] >= quantity:\n",
        "            inventory[item_name] -= quantity\n",
        "            print(f\"{quantity} {item_name} removed from inventory.\")\n",
        "        else:\n",
        "            print(f\"Not enough {item_name} in inventory.\")\n",
        "    else:\n",
        "        print(f\"{item_name} not found in inventory.\")\n",
        "\n",
        "def display_inventory(inventory):\n",
        "    \"Displays the current inventory.\"\n",
        "    print(\"Current Inventory:\")\n",
        "    for item_name, quantity in inventory.items():\n",
        "        print(f\"{item_name}: {quantity}\")\n",
        "\n",
        "inventory = {}\n",
        "\n",
        "add_item(inventory, \"apple\", 10)\n",
        "add_item(inventory, \"banana\", 5)\n",
        "add_item(inventory, \"orange\", 12)\n",
        "\n",
        "display_inventory(inventory)\n",
        "\n",
        "remove_item(inventory, \"banana\", 3)\n",
        "remove_item(inventory, \"apple\", 15)\n",
        "display_inventory(inventory)"
      ]
    },
    {
      "cell_type": "markdown",
      "metadata": {
        "id": "N8YF83WpTPJU"
      },
      "source": [
        "35.\tCreate a function that sorts a list of dictionaries by a specified key."
      ]
    },
    {
      "cell_type": "code",
      "execution_count": null,
      "metadata": {
        "colab": {
          "base_uri": "https://localhost:8080/"
        },
        "id": "EZVbHZVATYkW",
        "outputId": "54031df1-cdba-4bee-e8c1-a9c12c4e09a4"
      },
      "outputs": [
        {
          "name": "stdout",
          "output_type": "stream",
          "text": [
            "Sorted by name: [{'name': 'Aashi', 'age': 20}, {'name': 'Piyush', 'age': 35}, {'name': 'Pooja', 'age': 19}]\n",
            "Sorted by age: [{'name': 'Pooja', 'age': 19}, {'name': 'Aashi', 'age': 20}, {'name': 'Piyush', 'age': 35}]\n"
          ]
        }
      ],
      "source": [
        "def sort_list_of_dictionaries(list_of_dictionaries, key):\n",
        "    \"Sorts a list of dictionaries by a specified key.\"\n",
        "    return sorted(list_of_dictionaries, key=lambda dictionary: dictionary[key])\n",
        "\n",
        "data = [\n",
        "    {'name': 'Pooja', 'age': 19},\n",
        "    {'name': 'Aashi', 'age': 20},\n",
        "    {'name': 'Piyush', 'age': 20}\n",
        "]\n",
        "\n",
        "sorted_by_name = sort_list_of_dictionaries(data, 'name')\n",
        "print(\"Sorted by name:\", sorted_by_name)\n",
        "\n",
        "sorted_by_age = sort_list_of_dictionaries(data, 'age')\n",
        "print(\"Sorted by age:\", sorted_by_age)"
      ]
    },
    {
      "cell_type": "markdown",
      "metadata": {
        "id": "0CRKi_LuT3Lr"
      },
      "source": [
        "36.\tWrite a program that reads a file and handles exceptions if the file does not exist"
      ]
    },
    {
      "cell_type": "code",
      "execution_count": null,
      "metadata": {
        "colab": {
          "base_uri": "https://localhost:8080/"
        },
        "id": "7LHXkzbSUBQd",
        "outputId": "043b7051-a7bc-479c-a79c-d5e8aa3ab99e"
      },
      "outputs": [
        {
          "name": "stdout",
          "output_type": "stream",
          "text": [
            "Enter the filename: data.csv\n",
            "Error: File 'data.csv' not found.\n"
          ]
        }
      ],
      "source": [
        "def read_file(filename):\n",
        "    try:\n",
        "        with open(filename, 'r') as file:\n",
        "            contents = file.read()\n",
        "        return contents\n",
        "    except FileNotFoundError:\n",
        "        return f\"Error: File '{filename}' not found.\"\n",
        "    except Exception as e:\n",
        "        return f\"Error: An unexpected error occurred while reading the file: {e}\"\n",
        "\n",
        "filename = input(\"Enter the filename: \")\n",
        "file_contents = read_file(filename)\n",
        "print(file_contents)"
      ]
    },
    {
      "cell_type": "markdown",
      "metadata": {
        "id": "hWPpBAiUUOwu"
      },
      "source": [
        "37.\tCreate a function that raises an exception if the input is not a positive number."
      ]
    },
    {
      "cell_type": "code",
      "execution_count": null,
      "metadata": {
        "colab": {
          "base_uri": "https://localhost:8080/"
        },
        "id": "lrLQMLc_Uejy",
        "outputId": "ae842cf9-1291-415b-f427-2024b31ce0ae"
      },
      "outputs": [
        {
          "name": "stdout",
          "output_type": "stream",
          "text": [
            "Enter a positive number: -223423434\n",
            "Error: Input must be a positive number.\n"
          ]
        }
      ],
      "source": [
        "def maybepositive(number):\n",
        "    if number <= 0:\n",
        "        raise ValueError(\"Input must be a positive number.\")\n",
        "\n",
        "try:\n",
        "    user_input = int(input(\"Enter a positive number: \"))\n",
        "    maybepositive(user_input)\n",
        "    print(\"You entered a valid positive number:\", user_input)\n",
        "except ValueError as e:\n",
        "    print(\"Error:\", e)"
      ]
    },
    {
      "cell_type": "markdown",
      "metadata": {
        "id": "WeZO3-GMU4sA"
      },
      "source": [
        "38.\tImplement a program that uses assertions to check the validity of user input."
      ]
    },
    {
      "cell_type": "code",
      "execution_count": null,
      "metadata": {
        "colab": {
          "base_uri": "https://localhost:8080/"
        },
        "id": "PUwpmaPzVCnA",
        "outputId": "999a072c-bd6a-400d-d4b2-82aaaa427c68"
      },
      "outputs": [
        {
          "name": "stdout",
          "output_type": "stream",
          "text": [
            "Enter a positive number: 654234234234\n",
            "You entered a valid positive number: 654234234234\n"
          ]
        }
      ],
      "source": [
        "def get_positive_number():\n",
        "    while True:\n",
        "        try:\n",
        "            number = int(input(\"Enter a positive number: \"))\n",
        "            assert number > 0, \"Input must be a positive number.\"\n",
        "            return number\n",
        "        except ValueError:\n",
        "            print(\"Invalid input. Please enter a number.\")\n",
        "        except AssertionError as e:\n",
        "            print(\"Error:\", e)\n",
        "\n",
        "positive_number = get_positive_number()\n",
        "\n",
        "print(\"You entered a valid positive number:\", positive_number)"
      ]
    },
    {
      "cell_type": "markdown",
      "metadata": {
        "id": "jt6m0iioVMiU"
      },
      "source": [
        "39.\tWrite a function to demonstrate the use of try-except blocks when dividing numbers."
      ]
    },
    {
      "cell_type": "code",
      "execution_count": null,
      "metadata": {
        "colab": {
          "base_uri": "https://localhost:8080/"
        },
        "id": "Ff4T9L50VkBL",
        "outputId": "65fea062-b2eb-49a3-d48a-3dc2680e3583"
      },
      "outputs": [
        {
          "name": "stdout",
          "output_type": "stream",
          "text": [
            "Error: Cannot divide by zero.\n",
            "5.0\n"
          ]
        }
      ],
      "source": [
        "def safe_divide(numerator, denominator):\n",
        "    try:\n",
        "        result = numerator / denominator\n",
        "        return result\n",
        "    except ZeroDivisionError:\n",
        "        return \"Error: Cannot divide by zero.\"\n",
        "\n",
        "num1 = 10\n",
        "num2 = 6\n",
        "\n",
        "result = safe_divide(num1, num2)\n",
        "print(result)\n",
        "\n",
        "num1 = 10\n",
        "num2 = 2\n",
        "\n",
        "result = safe_divide(num1, num2)\n",
        "print(result)"
      ]
    },
    {
      "cell_type": "markdown",
      "metadata": {
        "id": "MdfYrWW-VtTU"
      },
      "source": [
        "40.\tCreate a program that captures and logs exceptions thrown in a mathematical computation."
      ]
    },
    {
      "cell_type": "code",
      "execution_count": null,
      "metadata": {
        "colab": {
          "base_uri": "https://localhost:8080/"
        },
        "id": "WnuxJ_OBV5tJ",
        "outputId": "af4f5fcd-feea-4963-db4d-a3e714b23ea3"
      },
      "outputs": [
        {
          "name": "stdout",
          "output_type": "stream",
          "text": [
            "Result: 5.0\n",
            "Result: 8\n"
          ]
        }
      ],
      "source": [
        "import logging\n",
        "\n",
        "logging.basicConfig(filename='math_errors.log', level=logging.ERROR,\n",
        "                    format='%(asctime)s - %(levelname)s - %(message)s')\n",
        "\n",
        "def perform_calculation(a, b, operation):\n",
        "    try:\n",
        "        if operation == '+':\n",
        "            return a + b\n",
        "        elif operation == '-':\n",
        "            return a - b\n",
        "        elif operation == '*':\n",
        "            return a * b\n",
        "        elif operation == '/':\n",
        "            return a / b\n",
        "        else:\n",
        "            raise ValueError(\"Invalid operation.\")\n",
        "    except (ZeroDivisionError, ValueError, TypeError) as e:\n",
        "        logging.error(f\"Error in calculation: {a} {operation} {b} - {e}\")\n",
        "        return None\n",
        "\n",
        "result = perform_calculation(10, 2, '/')\n",
        "if result is None:\n",
        "    print(\"An error occurred. See math_errors.log for details.\")\n",
        "else:\n",
        "    print(\"Result:\", result)\n",
        "\n",
        "result = perform_calculation(5, 3, '+')\n",
        "if result is None:\n",
        "    print(\"An error occurred. See math_errors.log for details.\")\n",
        "else:\n",
        "    print(\"Result:\", result)"
      ]
    },
    {
      "cell_type": "markdown",
      "metadata": {
        "id": "qgzzxoy5h0Ea"
      },
      "source": [
        "41.\tDefine a class for a Rectangle that calculates the area and perimeter."
      ]
    },
    {
      "cell_type": "code",
      "execution_count": null,
      "metadata": {
        "colab": {
          "base_uri": "https://localhost:8080/"
        },
        "id": "8e_WJxvpiB2X",
        "outputId": "4e3258a1-5a78-4e32-c6d4-b3b63da9a8d8"
      },
      "outputs": [
        {
          "name": "stdout",
          "output_type": "stream",
          "text": [
            "Area: 15\n",
            "Perimeter: 16\n"
          ]
        }
      ],
      "source": [
        "class Rectangle:\n",
        "    def __init__(self, length, width):\n",
        "        self.length = length\n",
        "        self.width = width\n",
        "\n",
        "    def area(self):\n",
        "        return self.length * self.width\n",
        "\n",
        "    def perimeter(self):\n",
        "        return 2 * (self.length + self.width)\n",
        "\n",
        "my_rectangle = Rectangle(5, 3) # create object\n",
        "\n",
        "print(\"Area:\", my_rectangle.area())\n",
        "print(\"Perimeter:\", my_rectangle.perimeter())"
      ]
    },
    {
      "cell_type": "markdown",
      "metadata": {
        "id": "_WlZ4WmGiVny"
      },
      "source": [
        "42.\tCreate a class that models a BankAccount with methods to deposit and withdraw funds."
      ]
    },
    {
      "cell_type": "code",
      "execution_count": null,
      "metadata": {
        "colab": {
          "base_uri": "https://localhost:8080/"
        },
        "id": "KwyM339nipka",
        "outputId": "2ca87985-b58f-4699-85e7-9b7936bcecb1"
      },
      "outputs": [
        {
          "name": "stdout",
          "output_type": "stream",
          "text": [
            "Deposited $500.00. New balance: $1500.00\n",
            "Withdrew $200.00. New balance: $1300.00\n",
            "Insufficient funds.\n"
          ]
        }
      ],
      "source": [
        "class BankAccount:\n",
        "    def __init__(self, account_number, initial_balance=0):\n",
        "        self.account_number = account_number\n",
        "        self.balance = initial_balance\n",
        "\n",
        "    def deposit(self, amount):\n",
        "        if amount > 0:\n",
        "            self.balance += amount\n",
        "            print(f\"Deposited ${amount:.2f}. New balance: ${self.balance:.2f}\")\n",
        "        else:\n",
        "            print(\"Invalid deposit amount. Amount must be positive.\")\n",
        "\n",
        "    def withdraw(self, amount):\n",
        "        if amount > 0:\n",
        "            if self.balance >= amount:\n",
        "                self.balance -= amount\n",
        "                print(f\"Withdrew ${amount:.2f}. New balance: ${self.balance:.2f}\")\n",
        "            else:\n",
        "                print(\"Insufficient funds.\")\n",
        "        else:\n",
        "            print(\"Invalid withdrawal amount. Amount must be positive.\")\n",
        "\n",
        "my_account = BankAccount(\"1234567890\", 1000) # create a object\n",
        "\n",
        "# Make some transactions\n",
        "my_account.deposit(500)\n",
        "my_account.withdraw(200)\n",
        "my_account.withdraw(1500)"
      ]
    },
    {
      "cell_type": "markdown",
      "metadata": {
        "id": "VsrNM0KhjAKU"
      },
      "source": [
        "43.\tImplement inheritance by creating a Circle class that inherits from a Shape class."
      ]
    },
    {
      "cell_type": "code",
      "execution_count": null,
      "metadata": {
        "colab": {
          "base_uri": "https://localhost:8080/"
        },
        "id": "br7FYMarjOdc",
        "outputId": "86398d10-71c7-4b7e-b9ee-8120fd010dd2"
      },
      "outputs": [
        {
          "name": "stdout",
          "output_type": "stream",
          "text": [
            "Color: red\n",
            "Area: 78.53975\n"
          ]
        }
      ],
      "source": [
        "class Shape:\n",
        "    def __init__(self, color):\n",
        "        self.color = color\n",
        "\n",
        "    def get_color(self):\n",
        "        return self.color\n",
        "\n",
        "class Circle(Shape):\n",
        "    def __init__(self, color, radius):\n",
        "        super().__init__(color)  # Call the parent class constructor\n",
        "        self.radius = radius\n",
        "\n",
        "    def area(self):\n",
        "        return 3.14159 * self.radius * self.radius  # Calculate circle area\n",
        "\n",
        "my_circle = Circle(\"red\", 5) # create a object\n",
        "\n",
        "print(\"Color:\", my_circle.get_color())\n",
        "print(\"Area:\", my_circle.area())"
      ]
    },
    {
      "cell_type": "markdown",
      "metadata": {
        "id": "ydx1VA-qjqmT"
      },
      "source": [
        "44.\tWrite a program that demonstrates encapsulation through private class members."
      ]
    },
    {
      "cell_type": "code",
      "execution_count": null,
      "metadata": {
        "colab": {
          "base_uri": "https://localhost:8080/"
        },
        "id": "YnkBaKlPj6la",
        "outputId": "05bd57ba-912c-41cf-af56-368b41cb1025"
      },
      "outputs": [
        {
          "name": "stdout",
          "output_type": "stream",
          "text": [
            "2023 Toyota Camry\n",
            "2023 Honda Camry\n"
          ]
        }
      ],
      "source": [
        "class Car:\n",
        "    def __init__(self, make, model, year):\n",
        "        self.__make = make\n",
        "        self.__model = model\n",
        "        self.__year = year\n",
        "\n",
        "    def get_make(self):\n",
        "        return self.__make\n",
        "\n",
        "    def set_make(self, make):\n",
        "        self.__make = make\n",
        "\n",
        "    def get_description(self):\n",
        "        return f\"{self.__year} {self.__make} {self.__model}\"\n",
        "\n",
        "my_car = Car(\"Toyota\", \"Camry\", 2023)\n",
        "\n",
        "print(my_car.get_description())\n",
        "\n",
        "my_car.set_make(\"Honda\")\n",
        "print(my_car.get_description())"
      ]
    },
    {
      "cell_type": "markdown",
      "metadata": {
        "id": "HJzqg487kX_x"
      },
      "source": [
        "45.\tCreate an abstract class Animal with subclasses for Dog and Cat."
      ]
    },
    {
      "cell_type": "code",
      "execution_count": null,
      "metadata": {
        "colab": {
          "base_uri": "https://localhost:8080/"
        },
        "id": "DTqKH877k1wb",
        "outputId": "727c15ff-fa83-4b91-ce7d-8f4cc2796dc9"
      },
      "outputs": [
        {
          "name": "stdout",
          "output_type": "stream",
          "text": [
            "Buddy says: Woof!\n",
            "Whiskers says: Meow!\n"
          ]
        }
      ],
      "source": [
        "from abc import ABC, abstractmethod\n",
        "\n",
        "class Animal(ABC):\n",
        "    def __init__(self, name):\n",
        "        self.name = name\n",
        "\n",
        "    @abstractmethod\n",
        "    def make_sound(self):\n",
        "        pass\n",
        "\n",
        "class Dog(Animal):\n",
        "    def make_sound(self):\n",
        "        return \"Woof!\"\n",
        "\n",
        "class Cat(Animal):\n",
        "    def make_sound(self):\n",
        "        return \"Meow!\"\n",
        "\n",
        "# Create objects and call methods\n",
        "dog = Dog(\"Buddy\")\n",
        "cat = Cat(\"Whiskers\")\n",
        "\n",
        "print(f\"{dog.name} says: {dog.make_sound()}\")\n",
        "print(f\"{cat.name} says: {cat.make_sound()}\")"
      ]
    },
    {
      "cell_type": "markdown",
      "metadata": {
        "id": "YPdUVeyKnZAr"
      },
      "source": [
        "46.Implement a binary search algorithm on a sorted list of numbers."
      ]
    },
    {
      "cell_type": "code",
      "execution_count": null,
      "metadata": {
        "colab": {
          "base_uri": "https://localhost:8080/"
        },
        "id": "Z7sg7gM_m9ZH",
        "outputId": "12b460e8-d679-4b2c-ad7e-89ee121d538f"
      },
      "outputs": [
        {
          "name": "stdout",
          "output_type": "stream",
          "text": [
            "Element 11 found at index 4\n"
          ]
        }
      ],
      "source": [
        "def binary_search(arr, target):\n",
        "    low = 0\n",
        "    high = len(arr) - 1\n",
        "\n",
        "    while low <= high:\n",
        "        mid = (low + high) // 2\n",
        "        if arr[mid] == target:\n",
        "            return mid  # Target found at the middle index\n",
        "        elif arr[mid] < target:\n",
        "            low = mid + 1  # Search in the right half\n",
        "        else:\n",
        "            high = mid - 1  # Search in the left half\n",
        "\n",
        "    return -1  # Target not found in the list\n",
        "\n",
        "numbers = [2, 5, 7, 8, 11, 12]\n",
        "target = 11\n",
        "\n",
        "index = binary_search(numbers, target)\n",
        "\n",
        "if index != -1:\n",
        "    print(f\"Element {target} found at index {index}\")\n",
        "else:\n",
        "    print(f\"Element {target} not found in the list\")"
      ]
    },
    {
      "cell_type": "markdown",
      "metadata": {
        "id": "E03fy4GJnkWc"
      },
      "source": [
        "47.\tWrite a sorting algorithm (e.g., bubble sort) and test its functionality."
      ]
    },
    {
      "source": [
        "def bubble_sort(arr):\n",
        "    \"Sorts a list using the Bubble Sort algorithm.\"\n",
        "    n = len(arr)\n",
        "    for i in range(n):\n",
        "        swapped = False\n",
        "        for j in range(0, n - i - 1):\n",
        "            if arr[j] > arr[j + 1]:\n",
        "                arr[j], arr[j + 1] = arr[j + 1], arr[j]\n",
        "                swapped = True\n",
        "        if not swapped:\n",
        "            break\n",
        "    return arr\n",
        "\n",
        "numbers = [64, 34, 25, 12, 22, 11, 90]\n",
        "sorted_numbers = bubble_sort(numbers)\n",
        "\n",
        "assert sorted_numbers == [11, 12, 22, 25, 34, 64, 90], \"Bubble sort failed\"\n",
        "\n",
        "print(\"Sorted array:\", sorted_numbers)\n",
        "print(\"Test passed!\")"
      ],
      "cell_type": "code",
      "metadata": {
        "colab": {
          "base_uri": "https://localhost:8080/"
        },
        "id": "WX7tf1bL__Z9",
        "outputId": "2b134875-5b30-4818-a285-f0e2be6bc36b"
      },
      "execution_count": null,
      "outputs": [
        {
          "output_type": "stream",
          "name": "stdout",
          "text": [
            "Sorted array: [11, 12, 22, 25, 34, 64, 90]\n",
            "Test passed!\n"
          ]
        }
      ]
    },
    {
      "cell_type": "markdown",
      "metadata": {
        "id": "2fGwdIVsoLQ4"
      },
      "source": [
        "48.\tCreate a program that utilizes a hashtable to store and retrieve key-value pairs."
      ]
    },
    {
      "cell_type": "code",
      "execution_count": null,
      "metadata": {
        "colab": {
          "base_uri": "https://localhost:8080/"
        },
        "id": "LXytLO_woV-n",
        "outputId": "0b1074b6-f3bb-4a54-aa22-c775a6698386"
      },
      "outputs": [
        {
          "name": "stdout",
          "output_type": "stream",
          "text": [
            "Banana\n",
            "Banana\n",
            "Banana\n"
          ]
        }
      ],
      "source": [
        "def create_hashtable(size):\n",
        "    \"Creates a hashtable with a given size.\"\n",
        "    return [None] * size\n",
        "\n",
        "def hash_function(key, size):\n",
        "    \"Hashes a key to an index in the hashtable.\"\n",
        "    return key % size\n",
        "\n",
        "def insert(hashtable, key, value):\n",
        "    \"Inserts a key-value pair into the hashtable.\"\n",
        "    index = hash_function(key, len(hashtable))\n",
        "    hashtable[index] = value\n",
        "\n",
        "def retrieve(hashtable, key):\n",
        "    \"Retrieves the value associated with a key from the hashtable.\"\n",
        "    index = hash_function(key, len(hashtable))\n",
        "    return hashtable[index]\n",
        "\n",
        "hashtable_size = 10\n",
        "hashtable = create_hashtable(hashtable_size)\n",
        "\n",
        "insert(hashtable, 5, \"Apple\")\n",
        "insert(hashtable, 15, \"Orange\")\n",
        "insert(hashtable, 25, \"Banana\")\n",
        "\n",
        "# Retrieve values using keys\n",
        "print(retrieve(hashtable, 5))\n",
        "print(retrieve(hashtable, 15))\n",
        "print(retrieve(hashtable, 25))"
      ]
    },
    {
      "cell_type": "markdown",
      "metadata": {
        "id": "BlVqkpsRpItH"
      },
      "source": [
        "49.\tDevelop a function that sorts a list of dictionaries based on the values of a specific key."
      ]
    },
    {
      "cell_type": "code",
      "execution_count": null,
      "metadata": {
        "colab": {
          "base_uri": "https://localhost:8080/"
        },
        "id": "QQ9qkZ3CpXb8",
        "outputId": "11b898a2-ccb1-4265-c00f-a7be037eab1b"
      },
      "outputs": [
        {
          "name": "stdout",
          "output_type": "stream",
          "text": [
            "[{'name': 'Pooja', 'age': 19}, {'name': 'Arya', 'age': 50}, {'name': 'chiku', 'age': 90}]\n",
            "[{'name': 'Arya', 'age': 50}, {'name': 'Pooja', 'age': 19}, {'name': 'chiku', 'age': 90}]\n"
          ]
        }
      ],
      "source": [
        "def sort_dictionaries_by_key(list_of_dictionaries, key):\n",
        "    return sorted(list_of_dictionaries, key=lambda dictionary: dictionary[key])\n",
        "\n",
        "data = [\n",
        "    {'name': 'Pooja', 'age': 19},\n",
        "    {'name': 'chiku', 'age': 90},\n",
        "    {'name': 'Arya', 'age': 50}\n",
        "]\n",
        "\n",
        "# Sort by 'age'\n",
        "sorted_data = sort_dictionaries_by_key(data, 'age')\n",
        "print(sorted_data)\n",
        "\n",
        "# Sort by 'name'\n",
        "sorted_data = sort_dictionaries_by_key(data, 'name')\n",
        "print(sorted_data)"
      ]
    },
    {
      "cell_type": "markdown",
      "metadata": {
        "id": "NhLSr98_p14h"
      },
      "source": [
        "50.\tWrite a program that implements a breadth-first search for a graph structure."
      ]
    },
    {
      "cell_type": "code",
      "execution_count": null,
      "metadata": {
        "colab": {
          "base_uri": "https://localhost:8080/"
        },
        "id": "e58BG20vqHf1",
        "outputId": "31dc2371-f0c7-431f-f804-83bb683bb3c2"
      },
      "outputs": [
        {
          "name": "stdout",
          "output_type": "stream",
          "text": [
            "BFS traversal from node A: ['A', 'B', 'C', 'D', 'E', 'F']\n"
          ]
        }
      ],
      "source": [
        "from collections import deque\n",
        "\n",
        "def breadth_first_search(graph, start_node):\n",
        "    visited = []\n",
        "    queue = deque([start_node])\n",
        "    while queue:\n",
        "        node = queue.popleft()\n",
        "\n",
        "        if node not in visited:\n",
        "            visited.append(node)\n",
        "\n",
        "            for neighbor in graph[node]:\n",
        "                if neighbor not in visited:\n",
        "                    queue.append(neighbor)\n",
        "    return visited\n",
        "graph = {\n",
        "    'A': ['B', 'C'],\n",
        "    'B': ['A', 'D', 'E'],\n",
        "    'C': ['A', 'F'],\n",
        "    'D': ['B'],\n",
        "    'E': ['B', 'F'],\n",
        "    'F': ['C', 'E']\n",
        "}\n",
        "start_node = 'A'\n",
        "\n",
        "bfs_traversal = breadth_first_search(graph, start_node)\n",
        "print(f\"BFS traversal from node {start_node}: {bfs_traversal}\")"
      ]
    },
    {
      "cell_type": "markdown",
      "metadata": {
        "id": "Ju1O98QgqkHk"
      },
      "source": [
        "51.\tUse Matplotlib to plot a simple line graph representing a mathematical function."
      ]
    },
    {
      "cell_type": "code",
      "execution_count": null,
      "metadata": {
        "colab": {
          "base_uri": "https://localhost:8080/",
          "height": 472
        },
        "id": "Mn5SSARLqxvG",
        "outputId": "941587f7-662d-4ed7-c6b3-3e6ecc6cc3d5"
      },
      "outputs": [
        {
          "data": {
            "image/png": "[encoded data removed]",
            "text/plain": [
              "<Figure size 640x480 with 1 Axes>"
            ]
          },
          "metadata": {},
          "output_type": "display_data"
        }
      ],
      "source": [
        "import matplotlib.pyplot as plt\n",
        "import numpy as np\n",
        "\n",
        "def my_function(x):\n",
        "  return x**2\n",
        "\n",
        "x = np.linspace(-5, 5, 100)\n",
        "\n",
        "y = my_function(x)\n",
        "\n",
        "plt.plot(x, y)\n",
        "\n",
        "plt.xlabel(\"x\")\n",
        "plt.ylabel(\"y\")\n",
        "plt.title(\"Plot of y = x^2\")\n",
        "\n",
        "plt.show()"
      ]
    },
    {
      "cell_type": "markdown",
      "metadata": {
        "id": "EljTAWRTrNdK"
      },
      "source": [
        "52.\tCreate a program that plots a scatter plot for random data points."
      ]
    },
    {
      "cell_type": "code",
      "execution_count": null,
      "metadata": {
        "colab": {
          "base_uri": "https://localhost:8080/",
          "height": 472
        },
        "id": "cGir76OhrYkH",
        "outputId": "1b2085c9-5ff6-4603-f5fb-2055f3cac7d6"
      },
      "outputs": [
        {
          "data": {
            "image/png": "[encoded data removed]",
            "text/plain": [
              "<Figure size 640x480 with 1 Axes>"
            ]
          },
          "metadata": {},
          "output_type": "display_data"
        }
      ],
      "source": [
        "import matplotlib.pyplot as plt\n",
        "import numpy as np\n",
        "\n",
        "num_points = 100\n",
        "x = np.random.rand(num_points)\n",
        "y = np.random.rand(num_points)\n",
        "plt.scatter(x, y)\n",
        "\n",
        "plt.xlabel(\"X-axis\")\n",
        "plt.ylabel(\"Y-axis\")\n",
        "plt.title(\"Scatter Plot of Random Data Points\")\n",
        "\n",
        "plt.show()"
      ]
    },
    {
      "cell_type": "markdown",
      "metadata": {
        "id": "D-XSIuEXrwdK"
      },
      "source": [
        "53.\tImplement a bar chart visualizing sales data over a month."
      ]
    },
    {
      "cell_type": "code",
      "execution_count": null,
      "metadata": {
        "colab": {
          "base_uri": "https://localhost:8080/",
          "height": 488
        },
        "id": "xcJhcEpFr5XL",
        "outputId": "02c8f392-8487-475b-e7c8-fdc7ddd2b4b6"
      },
      "outputs": [
        {
          "data": {
            "image/png": "[encoded data removed]",
            "text/plain": [
              "<Figure size 640x480 with 1 Axes>"
            ]
          },
          "metadata": {},
          "output_type": "display_data"
        }
      ],
      "source": [
        "import matplotlib.pyplot as plt\n",
        "import numpy as np\n",
        "\n",
        "months = ['Jan', 'Feb', 'Mar', 'Apr', 'May', 'Jun', 'Jul', 'Aug', 'Sep', 'Oct', 'Nov', 'Dec']\n",
        "sales = [1500, 1800, 1600, 2100, 2300, 2500, 2800, 2600, 2200, 1900, 1700, 2000]\n",
        "\n",
        "plt.bar(months, sales)\n",
        "\n",
        "plt.xlabel(\"Month\")\n",
        "plt.ylabel(\"Sales\")\n",
        "plt.title(\"Monthly Sales Data\")\n",
        "\n",
        "plt.xticks(rotation=45, ha='right')\n",
        "\n",
        "plt.show()"
      ]
    },
    {
      "cell_type": "markdown",
      "metadata": {
        "id": "_Rerbg8osHfW"
      },
      "source": [
        "54.\tWrite a program that demonstrates plotting the Fibonacci sequence with PyLab."
      ]
    },
    {
      "cell_type": "code",
      "execution_count": null,
      "metadata": {
        "colab": {
          "base_uri": "https://localhost:8080/",
          "height": 472
        },
        "id": "CxIZ_j8jsRL2",
        "outputId": "a8141712-0957-45b5-cf8f-7fbf2c2df6ed"
      },
      "outputs": [
        {
          "data": {
            "image/png": "[encoded data removed]",
            "text/plain": [
              "<Figure size 640x480 with 1 Axes>"
            ]
          },
          "metadata": {},
          "output_type": "display_data"
        }
      ],
      "source": [
        "import pylab\n",
        "\n",
        "def fibonacci(n):\n",
        "    \"Generates the first n Fibonacci numbers.\"\n",
        "    fib_sequence = [0, 1]\n",
        "    while len(fib_sequence) < n:\n",
        "        next_fib = fib_sequence[-1] + fib_sequence[-2]\n",
        "        fib_sequence.append(next_fib)\n",
        "    return fib_sequence\n",
        "\n",
        "num_terms = 10\n",
        "fib_numbers = fibonacci(num_terms)\n",
        "\n",
        "pylab.plot(fib_numbers, marker='o', linestyle='-')\n",
        "\n",
        "pylab.xlabel(\"Term Number\")\n",
        "pylab.ylabel(\"Fibonacci Number\")\n",
        "pylab.title(\"Fibonacci Sequence\")\n",
        "\n",
        "pylab.show()"
      ]
    },
    {
      "cell_type": "markdown",
      "metadata": {
        "id": "mDbU2F9xslPj"
      },
      "source": [
        "55.\tCreate a function that plots the trajectory of a projectile motion."
      ]
    },
    {
      "cell_type": "code",
      "execution_count": null,
      "metadata": {
        "colab": {
          "base_uri": "https://localhost:8080/",
          "height": 472
        },
        "id": "bCyNvIo6spIU",
        "outputId": "3d802a98-fccb-49ac-d9a6-cf23fd78d79a"
      },
      "outputs": [
        {
          "data": {
            "image/png": "[encoded data removed]",
            "text/plain": [
              "<Figure size 640x480 with 1 Axes>"
            ]
          },
          "metadata": {},
          "output_type": "display_data"
        }
      ],
      "source": [
        "import numpy as np\n",
        "import matplotlib.pyplot as plt\n",
        "\n",
        "def plot_projectile_trajectory(initial_velocity, launch_angle, gravity=9.8):\n",
        "    launch_angle_rad = np.deg2rad(launch_angle)\n",
        "\n",
        "    time_of_flight = (2 * initial_velocity * np.sin(launch_angle_rad)) / gravity\n",
        "\n",
        "    t = np.linspace(0, time_of_flight, num=100)\n",
        "\n",
        "    x = initial_velocity * np.cos(launch_angle_rad) * t\n",
        "    y = initial_velocity * np.sin(launch_angle_rad) * t - (0.5 * gravity * t**2)\n",
        "\n",
        "    plt.plot(x, y)\n",
        "    plt.xlabel(\"Horizontal Distance (m)\")\n",
        "    plt.ylabel(\"Vertical Distance (m)\")\n",
        "    plt.title(\"Projectile Trajectory\")\n",
        "    plt.grid(True)\n",
        "    plt.show()\n",
        "\n",
        "plot_projectile_trajectory(initial_velocity=20, launch_angle=45)"
      ]
    },
    {
      "cell_type": "markdown",
      "metadata": {
        "id": "rsTzKdcfs-mj"
      },
      "source": [
        "56.\tImplement the 0/1 knapsack algorithm to solve a simple problem."
      ]
    },
    {
      "cell_type": "code",
      "execution_count": null,
      "metadata": {
        "colab": {
          "base_uri": "https://localhost:8080/"
        },
        "id": "LXyXZUvutG3F",
        "outputId": "2c93d611-a2d8-4c6a-fae2-f1aa17dfd541"
      },
      "outputs": [
        {
          "name": "stdout",
          "output_type": "stream",
          "text": [
            "Maximum value: 220\n",
            "Selected items (indices): [2, 1]\n"
          ]
        }
      ],
      "source": [
        "def knapsack_01(weights, values, capacity):\n",
        "    n = len(weights)\n",
        "    dp = [[0 for _ in range(capacity + 1)] for _ in range(n + 1)]\n",
        "\n",
        "    for i in range(1, n + 1):\n",
        "        for w in range(1, capacity + 1):\n",
        "            if weights[i - 1] <= w:\n",
        "                dp[i][w] = max(values[i - 1] + dp[i - 1][w - weights[i - 1]], dp[i - 1][w])\n",
        "            else:\n",
        "                dp[i][w] = dp[i - 1][w]\n",
        "\n",
        "    selected_items = []\n",
        "    i = n\n",
        "    w = capacity\n",
        "    while i > 0 and w > 0:\n",
        "        if dp[i][w] != dp[i - 1][w]:\n",
        "            selected_items.append(i - 1)\n",
        "            w -= weights[i - 1]\n",
        "        i -= 1\n",
        "\n",
        "    return dp[n][capacity], selected_items\n",
        "\n",
        "weights = [10, 20, 30]\n",
        "values = [60, 100, 120]\n",
        "capacity = 50\n",
        "\n",
        "max_value, selected_items = knapsack_01(weights, values, capacity)\n",
        "\n",
        "print(\"Maximum value:\", max_value)\n",
        "print(\"Selected items (indices):\", selected_items)"
      ]
    },
    {
      "cell_type": "markdown",
      "metadata": {
        "id": "Me56Q58jtWyh"
      },
      "source": [
        "57.\tWrite a dynamic programming solution for finding the longest common subsequence."
      ]
    },
    {
      "cell_type": "code",
      "execution_count": null,
      "metadata": {
        "colab": {
          "base_uri": "https://localhost:8080/"
        },
        "id": "wVtnwbYstoMo",
        "outputId": "b33c25e5-7815-4fea-f3ac-069c65c59667"
      },
      "outputs": [
        {
          "output_type": "stream",
          "name": "stdout",
          "text": [
            "Longest Common Subsequence: A\n"
          ]
        }
      ],
      "source": [
        "def longest_common_subsequence(str1, str2):\n",
        "    n = len(str1)\n",
        "    m = len(str2)\n",
        "\n",
        "    dp = [[0 for _ in range(m + 1)] for _ in range(n + 1)]\n",
        "\n",
        "    for i in range(1, n + 1):\n",
        "        for j in range(1, m + 1):\n",
        "            if str1[i - 1] == str2[j - 1]:\n",
        "                dp[i][j] = dp[i - 1][j - 1] + 1\n",
        "            else:\n",
        "                dp[i][j] = max(dp[i - 1][j], dp[i][j - 1])\n",
        "\n",
        "    lcs = \"\"\n",
        "    i = n\n",
        "    j = m\n",
        "    while i > 0 and j > 0:\n",
        "        if str1[i - 1] == str2[j - 1]:\n",
        "            lcs = str1[i - 1] + lcs\n",
        "            i -= 1\n",
        "            j -= 1\n",
        "        else:\n",
        "            if dp[i - 1][j] > dp[i][j - 1]:\n",
        "                i -= 1\n",
        "            else:\n",
        "                j -= 1\n",
        "\n",
        "    return lcs\n",
        "\n",
        "string1 = \"PoojCHOUDHARY\"\n",
        "string2 = \"AAshi\"\n",
        "\n",
        "lcs = longest_common_subsequence(string1, string2)\n",
        "print(\"Longest Common Subsequence:\", lcs)"
      ]
    },
    {
      "cell_type": "markdown",
      "metadata": {
        "id": "VHYKnR25uCTR"
      },
      "source": [
        "58.\tCreate a program to visualize dynamic programming approaches for the Fibonacci sequence."
      ]
    },
    {
      "cell_type": "code",
      "execution_count": null,
      "metadata": {
        "colab": {
          "base_uri": "https://localhost:8080/",
          "height": 472
        },
        "id": "Xs9rOVRuubAO",
        "outputId": "59ba4859-2a96-483e-95c7-d0f6ea4f1719"
      },
      "outputs": [
        {
          "data": {
            "image/png": "[encoded data removed]",
            "text/plain": [
              "<Figure size 640x480 with 1 Axes>"
            ]
          },
          "metadata": {},
          "output_type": "display_data"
        }
      ],
      "source": [
        "import matplotlib.pyplot as plt\n",
        "import time\n",
        "\n",
        "def fibonacci_recursive(n):\n",
        "    if n <= 1:\n",
        "        return n\n",
        "    return fibonacci_recursive(n - 1) + fibonacci_recursive(n - 2)\n",
        "\n",
        "def fibonacci_memoization(n, memo={}):\n",
        "    if n in memo:\n",
        "        return memo[n]\n",
        "    if n <= 1:\n",
        "        return n\n",
        "    memo[n] = fibonacci_memoization(n - 1, memo) + fibonacci_memoization(n - 2, memo)\n",
        "    return memo[n]\n",
        "\n",
        "def fibonacci_tabulation(n):\n",
        "    table = [0, 1]\n",
        "    for i in range(2, n + 1):\n",
        "        table.append(table[i - 1] + table[i - 2])\n",
        "    return table[n]\n",
        "\n",
        "def time_execution(func, n):\n",
        "    start_time = time.time()\n",
        "    func(n)\n",
        "    end_time = time.time()\n",
        "    return end_time - start_time\n",
        "\n",
        "n_values = range(1, 31)\n",
        "\n",
        "recursive_times = [time_execution(fibonacci_recursive, n) for n in n_values]\n",
        "memoization_times = [time_execution(fibonacci_memoization, n) for n in n_values]\n",
        "tabulation_times = [time_execution(fibonacci_tabulation, n) for n in n_values]\n",
        "\n",
        "plt.plot(n_values, recursive_times, label=\"Recursive\")\n",
        "plt.plot(n_values, memoization_times, label=\"Memoization (DP)\")\n",
        "plt.plot(n_values, tabulation_times, label=\"Tabulation (DP)\")\n",
        "\n",
        "plt.xlabel(\"n (Fibonacci Number)\")\n",
        "plt.ylabel(\"Execution Time (seconds)\")\n",
        "plt.title(\"Fibonacci Sequence - Dynamic Programming Visualization\")\n",
        "plt.legend()\n",
        "\n",
        "plt.show()"
      ]
    },
    {
      "cell_type": "markdown",
      "metadata": {
        "id": "unmcPZfkvAdA"
      },
      "source": [
        "59.\tDevelop a divide-and-conquer algorithm to sort an array."
      ]
    },
    {
      "cell_type": "code",
      "execution_count": null,
      "metadata": {
        "colab": {
          "base_uri": "https://localhost:8080/"
        },
        "id": "qoyzClMDvWHY",
        "outputId": "784222dd-40f0-48ad-fd25-2e0443021fa4"
      },
      "outputs": [
        {
          "name": "stdout",
          "output_type": "stream",
          "text": [
            "Sorted array: [1, 2, 3, 4, 5, 6, 7, 8]\n"
          ]
        }
      ],
      "source": [
        "def merge_sort(arr):\n",
        "    if len(arr) > 1:\n",
        "        mid = len(arr) // 2\n",
        "        left_half = arr[:mid]\n",
        "        right_half = arr[mid:]\n",
        "\n",
        "        merge_sort(left_half)\n",
        "        merge_sort(right_half)\n",
        "\n",
        "        i = j = k = 0\n",
        "        while i < len(left_half) and j < len(right_half):\n",
        "            if left_half[i] < right_half[j]:\n",
        "                arr[k] = left_half[i]\n",
        "                i += 1\n",
        "            else:\n",
        "                arr[k] = right_half[j]\n",
        "                j += 1\n",
        "            k += 1\n",
        "\n",
        "        while i < len(left_half):\n",
        "            arr[k] = left_half[i]\n",
        "            i += 1\n",
        "            k += 1\n",
        "\n",
        "        while j < len(right_half):\n",
        "            arr[k] = right_half[j]\n",
        "            j += 1\n",
        "            k += 1\n",
        "    return arr\n",
        "\n",
        "numbers = [6, 5, 3, 1, 8, 7, 2, 4]\n",
        "sorted_numbers = merge_sort(numbers)\n",
        "print(\"Sorted array:\", sorted_numbers)"
      ]
    },
    {
      "cell_type": "markdown",
      "metadata": {
        "id": "-ByFTUiPv4Ht"
      },
      "source": [
        "60.\tWrite a Python function that uses memoization to optimize a recursive problem."
      ]
    },
    {
      "cell_type": "code",
      "execution_count": null,
      "metadata": {
        "colab": {
          "base_uri": "https://localhost:8080/"
        },
        "id": "yrTkyL9ywAKX",
        "outputId": "81f69375-6eed-4861-9503-77971e602588"
      },
      "outputs": [
        {
          "name": "stdout",
          "output_type": "stream",
          "text": [
            "55\n",
            "5\n"
          ]
        }
      ],
      "source": [
        "def fibonacci_memoization(n, memo={}):\n",
        "    if n in memo:\n",
        "        return memo[n]\n",
        "    if n <= 1:\n",
        "        return n\n",
        "\n",
        "    memo[n] = fibonacci_memoization(n - 1, memo) + fibonacci_memoization(n - 2, memo)\n",
        "    return memo[n]\n",
        "\n",
        "print(fibonacci_memoization(10))\n",
        "print(fibonacci_memoization(5))"
      ]
    },
    {
      "cell_type": "markdown",
      "metadata": {
        "id": "9LvXR9tRxCcR"
      },
      "source": [
        "61.\tCreate an application that manages a library system with classes for Book and Library."
      ]
    },
    {
      "cell_type": "code",
      "execution_count": null,
      "metadata": {
        "colab": {
          "base_uri": "https://localhost:8080/"
        },
        "id": "p8A8_K6NxT-D",
        "outputId": "24c53b27-9962-4b8d-d4ea-5ce80b5b7fa6"
      },
      "outputs": [
        {
          "name": "stdout",
          "output_type": "stream",
          "text": [
            "Book 'The Lord of the Rings' added to the library.\n",
            "Book 'The Hitchhiker's Guide to the Galaxy' added to the library.\n",
            "Book 'The Lord of the Rings' borrowed.\n",
            "Library Books:\n",
            "Title: The Lord of the Rings, Author: J.R.R. Tolkien, ISBN: 9780547928227, Borrowed: True\n",
            "Title: The Hitchhiker's Guide to the Galaxy, Author: Douglas Adams, ISBN: 9780345391803, Borrowed: False\n",
            "Book 'The Lord of the Rings' returned.\n",
            "Library Books:\n",
            "Title: The Lord of the Rings, Author: J.R.R. Tolkien, ISBN: 9780547928227, Borrowed: False\n",
            "Title: The Hitchhiker's Guide to the Galaxy, Author: Douglas Adams, ISBN: 9780345391803, Borrowed: False\n"
          ]
        }
      ],
      "source": [
        "class Book:\n",
        "    def __init__(self, title, author, isbn):\n",
        "        self.title = title\n",
        "        self.author = author\n",
        "        self.isbn = isbn\n",
        "        self.is_borrowed = False\n",
        "\n",
        "    def __str__(self):\n",
        "        return f\"Title: {self.title}, Author: {self.author}, ISBN: {self.isbn}, Borrowed: {self.is_borrowed}\"\n",
        "\n",
        "class Library:\n",
        "    def __init__(self):\n",
        "        self.books = []\n",
        "\n",
        "    def add_book(self, book):\n",
        "        self.books.append(book)\n",
        "        print(f\"Book '{book.title}' added to the library.\")\n",
        "\n",
        "    def borrow_book(self, isbn):\n",
        "        for book in self.books:\n",
        "            if book.isbn == isbn and not book.is_borrowed:\n",
        "                book.is_borrowed = True\n",
        "                print(f\"Book '{book.title}' borrowed.\")\n",
        "                return\n",
        "        print(f\"Book with ISBN '{isbn}' not found or already borrowed.\")\n",
        "\n",
        "    def return_book(self, isbn):\n",
        "        for book in self.books:\n",
        "            if book.isbn == isbn and book.is_borrowed:\n",
        "                book.is_borrowed = False\n",
        "                print(f\"Book '{book.title}' returned.\")\n",
        "                return\n",
        "        print(f\"Book with ISBN '{isbn}' not found or not borrowed.\")\n",
        "\n",
        "    def display_books(self):\n",
        "        print(\"Library Books:\")\n",
        "        for book in self.books:\n",
        "            print(book)\n",
        "\n",
        "library = Library()\n",
        "\n",
        "book1 = Book(\"The Lord of the Rings\", \"J.R.R. Tolkien\", \"9780547928227\")\n",
        "book2 = Book(\"The Hitchhiker's Guide to the Galaxy\", \"Douglas Adams\", \"9780345391803\")\n",
        "\n",
        "library.add_book(book1)\n",
        "library.add_book(book2)\n",
        "\n",
        "library.borrow_book(\"9780547928227\")\n",
        "library.display_books()\n",
        "\n",
        "library.return_book(\"9780547928227\")\n",
        "library.display_books()"
      ]
    },
    {
      "cell_type": "markdown",
      "metadata": {
        "id": "q8O9zW3HxfDK"
      },
      "source": [
        "62.\tImplement a simple game (e.g., Guess the Number) using branching and loops."
      ]
    },
    {
      "cell_type": "code",
      "execution_count": null,
      "metadata": {
        "id": "gsw2zC9nxqi8",
        "colab": {
          "base_uri": "https://localhost:8080/"
        },
        "outputId": "1fd087a4-ffca-4c33-8ba4-62bcd98eb64d"
      },
      "outputs": [
        {
          "output_type": "stream",
          "name": "stdout",
          "text": [
            "Welcome to Guess the Number!\n",
            "I'm thinking of a number between 1 and 100.\n",
            "You have 7 guesses left.\n",
            "Take a guess: 99\n",
            "Too high!\n",
            "You have 6 guesses left.\n",
            "Take a guess: 99\n",
            "Too high!\n",
            "You have 5 guesses left.\n",
            "Take a guess: 76\n",
            "Too high!\n",
            "You have 4 guesses left.\n",
            "Take a guess: 1\n",
            "Too low!\n",
            "You have 3 guesses left.\n",
            "Take a guess: 0\n",
            "Too low!\n",
            "You have 2 guesses left.\n",
            "Take a guess: 72\n",
            "Too high!\n",
            "You have 1 guesses left.\n",
            "Take a guess: 89\n",
            "Too high!\n",
            "Sorry, you ran out of guesses. The number was 26.\n"
          ]
        }
      ],
      "source": [
        "import random\n",
        "\n",
        "def guess_the_number():\n",
        "    \"Plays a simple 'Guess the Number' game.\"\n",
        "    secret_number = random.randint(1, 100)\n",
        "    guesses_left = 7\n",
        "\n",
        "    print(\"Welcome to Guess the Number!\")\n",
        "    print(\"I'm thinking of a number between 1 and 100.\")\n",
        "\n",
        "    while guesses_left > 0:\n",
        "        print(f\"You have {guesses_left} guesses left.\")\n",
        "        try:\n",
        "            guess = int(input(\"Take a guess: \"))\n",
        "        except ValueError:\n",
        "            print(\"Invalid input. Please enter a number.\")\n",
        "            continue\n",
        "\n",
        "        if guess == secret_number:\n",
        "            print(\"Congratulations! You guessed the number!\")\n",
        "            return\n",
        "\n",
        "        elif guess < secret_number:\n",
        "            print(\"Too low!\")\n",
        "        else:\n",
        "            print(\"Too high!\")\n",
        "\n",
        "        guesses_left -= 1\n",
        "\n",
        "    print(f\"Sorry, you ran out of guesses. The number was {secret_number}.\")\n",
        "\n",
        "guess_the_number()"
      ]
    },
    {
      "cell_type": "markdown",
      "metadata": {
        "id": "ocw-e7Q5x2b2"
      },
      "source": [
        "63.\tWrite a Python program that scrapes data from a website and processes it."
      ]
    },
    {
      "cell_type": "code",
      "execution_count": null,
      "metadata": {
        "colab": {
          "base_uri": "https://localhost:8080/"
        },
        "id": "c2bijnc0yA3v",
        "outputId": "703c3dce-f396-49ba-f9c8-2ad30a9acc4b"
      },
      "outputs": [
        {
          "output_type": "stream",
          "name": "stdout",
          "text": [
            "Error: 404 Client Error: Not Found for url: https://www.example.com/books\n"
          ]
        }
      ],
      "source": [
        "import requests\n",
        "from bs4 import BeautifulSoup\n",
        "\n",
        "def scrape_and_process_data(url):\n",
        "    \"Scrapes data from a website and processes it.\"\n",
        "    try:\n",
        "        response = requests.get(url)\n",
        "        response.raise_for_status()\n",
        "\n",
        "        soup = BeautifulSoup(response.content, \"html.parser\")\n",
        "\n",
        "        book_titles = [book.text for book in soup.find_all(\"h2\", class_=\"book-title\")]\n",
        "        print(\"Book Titles:\")\n",
        "        for title in book_titles:\n",
        "            print(title)\n",
        "\n",
        "    except requests.exceptions.RequestException as e:\n",
        "        print(f\"Error: {e}\")\n",
        "\n",
        "url = \"https://www.example.com/books\"\n",
        "scrape_and_process_data(url)"
      ]
    },
    {
      "cell_type": "markdown",
      "metadata": {
        "id": "dJNdDQnoyfW_"
      },
      "source": [
        "64.\tDevelop a weather application that retrieves data from an API and displays it using plots."
      ]
    },
    {
      "cell_type": "code",
      "execution_count": null,
      "metadata": {
        "colab": {
          "base_uri": "https://localhost:8080/",
          "height": 370
        },
        "id": "bauVYsuP0Glx",
        "outputId": "2955f944-e67d-4913-ab7a-8959264bf819"
      },
      "outputs": [
        {
          "output_type": "error",
          "ename": "HTTPError",
          "evalue": "401 Client Error: Unauthorized for url: https://api.openweathermap.org/data/2.5/weather?q=London&appid=YOUR_API_KEY&units=metric",
          "traceback": [
            "\u001b[0;31m---------------------------------------------------------------------------\u001b[0m",
            "\u001b[0;31mHTTPError\u001b[0m                                 Traceback (most recent call last)",
            "\u001b[0;32m<ipython-input-20-d6b57e5f0e03>\u001b[0m in \u001b[0;36m<cell line: 38>\u001b[0;34m()\u001b[0m\n\u001b[1;32m     36\u001b[0m \u001b[0mapi_key\u001b[0m \u001b[0;34m=\u001b[0m \u001b[0;34m\"YOUR_API_KEY\"\u001b[0m  \u001b[0;31m# Replace with your API key\u001b[0m\u001b[0;34m\u001b[0m\u001b[0;34m\u001b[0m\u001b[0m\n\u001b[1;32m     37\u001b[0m \u001b[0;34m\u001b[0m\u001b[0m\n\u001b[0;32m---> 38\u001b[0;31m \u001b[0mweather_data\u001b[0m \u001b[0;34m=\u001b[0m \u001b[0mget_weather_data\u001b[0m\u001b[0;34m(\u001b[0m\u001b[0mcity\u001b[0m\u001b[0;34m,\u001b[0m \u001b[0mapi_key\u001b[0m\u001b[0;34m)\u001b[0m\u001b[0;34m\u001b[0m\u001b[0;34m\u001b[0m\u001b[0m\n\u001b[0m\u001b[1;32m     39\u001b[0m \u001b[0mdisplay_weather_plot\u001b[0m\u001b[0;34m(\u001b[0m\u001b[0mweather_data\u001b[0m\u001b[0;34m)\u001b[0m\u001b[0;34m\u001b[0m\u001b[0;34m\u001b[0m\u001b[0m\n",
            "\u001b[0;32m<ipython-input-20-d6b57e5f0e03>\u001b[0m in \u001b[0;36mget_weather_data\u001b[0;34m(city, api_key)\u001b[0m\n\u001b[1;32m      8\u001b[0m \u001b[0;34m\u001b[0m\u001b[0m\n\u001b[1;32m      9\u001b[0m     \u001b[0mresponse\u001b[0m \u001b[0;34m=\u001b[0m \u001b[0mrequests\u001b[0m\u001b[0;34m.\u001b[0m\u001b[0mget\u001b[0m\u001b[0;34m(\u001b[0m\u001b[0mbase_url\u001b[0m\u001b[0;34m,\u001b[0m \u001b[0mparams\u001b[0m\u001b[0;34m=\u001b[0m\u001b[0mparams\u001b[0m\u001b[0;34m)\u001b[0m\u001b[0;34m\u001b[0m\u001b[0;34m\u001b[0m\u001b[0m\n\u001b[0;32m---> 10\u001b[0;31m     \u001b[0mresponse\u001b[0m\u001b[0;34m.\u001b[0m\u001b[0mraise_for_status\u001b[0m\u001b[0;34m(\u001b[0m\u001b[0;34m)\u001b[0m\u001b[0;34m\u001b[0m\u001b[0;34m\u001b[0m\u001b[0m\n\u001b[0m\u001b[1;32m     11\u001b[0m \u001b[0;34m\u001b[0m\u001b[0m\n\u001b[1;32m     12\u001b[0m     \u001b[0;32mreturn\u001b[0m \u001b[0mresponse\u001b[0m\u001b[0;34m.\u001b[0m\u001b[0mjson\u001b[0m\u001b[0;34m(\u001b[0m\u001b[0;34m)\u001b[0m\u001b[0;34m\u001b[0m\u001b[0;34m\u001b[0m\u001b[0m\n",
            "\u001b[0;32m/usr/local/lib/python3.10/dist-packages/requests/models.py\u001b[0m in \u001b[0;36mraise_for_status\u001b[0;34m(self)\u001b[0m\n\u001b[1;32m   1022\u001b[0m \u001b[0;34m\u001b[0m\u001b[0m\n\u001b[1;32m   1023\u001b[0m         \u001b[0;32mif\u001b[0m \u001b[0mhttp_error_msg\u001b[0m\u001b[0;34m:\u001b[0m\u001b[0;34m\u001b[0m\u001b[0;34m\u001b[0m\u001b[0m\n\u001b[0;32m-> 1024\u001b[0;31m             \u001b[0;32mraise\u001b[0m \u001b[0mHTTPError\u001b[0m\u001b[0;34m(\u001b[0m\u001b[0mhttp_error_msg\u001b[0m\u001b[0;34m,\u001b[0m \u001b[0mresponse\u001b[0m\u001b[0;34m=\u001b[0m\u001b[0mself\u001b[0m\u001b[0;34m)\u001b[0m\u001b[0;34m\u001b[0m\u001b[0;34m\u001b[0m\u001b[0m\n\u001b[0m\u001b[1;32m   1025\u001b[0m \u001b[0;34m\u001b[0m\u001b[0m\n\u001b[1;32m   1026\u001b[0m     \u001b[0;32mdef\u001b[0m \u001b[0mclose\u001b[0m\u001b[0;34m(\u001b[0m\u001b[0mself\u001b[0m\u001b[0;34m)\u001b[0m\u001b[0;34m:\u001b[0m\u001b[0;34m\u001b[0m\u001b[0;34m\u001b[0m\u001b[0m\n",
            "\u001b[0;31mHTTPError\u001b[0m: 401 Client Error: Unauthorized for url: https://api.openweathermap.org/data/2.5/weather?q=London&appid=YOUR_API_KEY&units=metric"
          ]
        }
      ],
      "source": [
        "import requests\n",
        "import matplotlib.pyplot as plt\n",
        "\n",
        "def get_weather_data(city, api_key):\n",
        "    \"Retrieves weather data from OpenWeatherMap API.\"\n",
        "    base_url = \"https://api.openweathermap.org/data/2.5/weather\"\n",
        "    params = {\"q\": city, \"appid\": api_key, \"units\": \"metric\"}\n",
        "\n",
        "    response = requests.get(base_url, params=params)\n",
        "    response.raise_for_status()\n",
        "\n",
        "    return response.json()\n",
        "def display_weather_plot(weather_data):\n",
        "    \"Displays weather data using plots.\"\n",
        "    temperature = weather_data[\"main\"][\"temp\"]\n",
        "    humidity = weather_data[\"main\"][\"humidity\"]\n",
        "    wind_speed = weather_data[\"wind\"][\"speed\"]\n",
        "\n",
        "    plt.figure(figsize=(6, 4))\n",
        "    plt.bar([\"Temperature\"], [temperature], color=\"red\")\n",
        "    plt.ylabel(\"Temperature (°C)\")\n",
        "    plt.title(f\"Weather in {weather_data['name']}\")\n",
        "    plt.show()\n",
        "\n",
        "    plt.figure(figsize=(6, 4))\n",
        "    plt.bar([\"Humidity\"], [humidity], color=\"blue\")\n",
        "    plt.ylabel(\"Humidity (%)\")\n",
        "    plt.show()\n",
        "\n",
        "    plt.figure(figsize=(6, 4))\n",
        "    plt.bar([\"Wind Speed\"], [wind_speed], color=\"green\")\n",
        "    plt.ylabel(\"Wind Speed (m/s)\")\n",
        "    plt.show()\n",
        "\n",
        "city = \"London\"\n",
        "api_key = \"YOUR_API_KEY\"  # Replace with your API key\n",
        "\n",
        "weather_data = get_weather_data(city, api_key)\n",
        "display_weather_plot(weather_data)"
      ]
    },
    {
      "cell_type": "markdown",
      "metadata": {
        "id": "BDEVEUQv0SJM"
      },
      "source": [
        "65.\tCreate a ToDo application using classes and file handling to save tasks."
      ]
    },
    {
      "cell_type": "code",
      "execution_count": null,
      "metadata": {
        "colab": {
          "base_uri": "https://localhost:8080/"
        },
        "id": "CAPvQAI10dp4",
        "outputId": "d0db2794-4f00-47fc-c0dc-579a2bb0f0bc"
      },
      "outputs": [
        {
          "name": "stdout",
          "output_type": "stream",
          "text": [
            "\n",
            "Choose an action:\n",
            "1. Add task\n",
            "2. Complete task\n",
            "3. Display tasks\n",
            "4. Exit\n",
            " > 3\n",
            "No tasks in the list.\n",
            "\n",
            "Choose an action:\n",
            "1. Add task\n",
            "2. Complete task\n",
            "3. Display tasks\n",
            "4. Exit\n",
            " > 1\n",
            "Enter task: NOTHING\n",
            "Task 'NOTHING' added.\n",
            "\n",
            "Choose an action:\n",
            "1. Add task\n",
            "2. Complete task\n",
            "3. Display tasks\n",
            "4. Exit\n",
            " > 4\n"
          ]
        }
      ],
      "source": [
        "import json\n",
        "\n",
        "class ToDoItem:\n",
        "    def __init__(self, task, completed=False):\n",
        "        self.task = task\n",
        "        self.completed = completed\n",
        "\n",
        "    def __str__(self):\n",
        "        return f\"[{'x' if self.completed else ' '}] {self.task}\"\n",
        "\n",
        "class ToDoList:\n",
        "    def __init__(self, filename=\"todo.json\"):\n",
        "        self.filename = filename\n",
        "        self.items = self.load_tasks()\n",
        "\n",
        "    def load_tasks(self):\n",
        "        try:\n",
        "            with open(self.filename, \"r\") as f:\n",
        "                data = json.load(f)\n",
        "                return [ToDoItem(item[\"task\"], item[\"completed\"]) for item in data]\n",
        "        except FileNotFoundError:\n",
        "            return []\n",
        "\n",
        "    def save_tasks(self):\n",
        "        with open(self.filename, \"w\") as f:\n",
        "            data = [{\"task\": item.task, \"completed\": item.completed} for item in self.items]\n",
        "            json.dump(data, f, indent=4)\n",
        "\n",
        "    def add_task(self, task):\n",
        "        self.items.append(ToDoItem(task))\n",
        "        self.save_tasks()\n",
        "        print(f\"Task '{task}' added.\")\n",
        "\n",
        "    def complete_task(self, task_index):\n",
        "        try:\n",
        "            self.items[task_index - 1].completed = True\n",
        "            self.save_tasks()\n",
        "            print(f\"Task {task_index} marked as completed.\")\n",
        "        except IndexError:\n",
        "            print(\"Invalid task index.\")\n",
        "\n",
        "    def display_tasks(self):\n",
        "        if not self.items:\n",
        "            print(\"No tasks in the list.\")\n",
        "            return\n",
        "\n",
        "        for index, item in enumerate(self.items, 1):\n",
        "            print(f\"{index}. {item}\")\n",
        "\n",
        "def main():\n",
        "    todo_list = ToDoList()\n",
        "\n",
        "    while True:\n",
        "        print(\"\\nChoose an action:\")\n",
        "        print(\"1. Add task\")\n",
        "        print(\"2. Complete task\")\n",
        "        print(\"3. Display tasks\")\n",
        "        print(\"4. Exit\")\n",
        "\n",
        "        choice = input(\" > \")\n",
        "\n",
        "        if choice == \"1\":\n",
        "            task = input(\"Enter task: \")\n",
        "            todo_list.add_task(task)\n",
        "        elif choice == \"2\":\n",
        "            try:\n",
        "                task_index = int(input(\"Enter task number to complete: \"))\n",
        "                todo_list.complete_task(task_index)\n",
        "            except ValueError:\n",
        "                print(\"Invalid input. Please enter a number.\")\n",
        "        elif choice == \"3\":\n",
        "            todo_list.display_tasks()\n",
        "        elif choice == \"4\":\n",
        "            break\n",
        "        else:\n",
        "            print(\"Invalid choice.\")\n",
        "\n",
        "if __name__ == \"__main__\":\n",
        "    main()"
      ]
    },
    {
      "cell_type": "markdown",
      "metadata": {
        "id": "OhEXMU-31dx4"
      },
      "source": [
        "66.\tWrite a function that converts a number to its binary string representation."
      ]
    },
    {
      "cell_type": "code",
      "execution_count": null,
      "metadata": {
        "id": "TEMMp1_D2Pe5",
        "colab": {
          "base_uri": "https://localhost:8080/"
        },
        "outputId": "635c848f-c9ec-49b4-8ac7-9aeeba8d6dd7"
      },
      "outputs": [
        {
          "output_type": "stream",
          "name": "stdout",
          "text": [
            "The binary representation of 20 is: 10100\n"
          ]
        }
      ],
      "source": [
        "def decimal_to_binary(decimal_number):\n",
        "  if decimal_number == 0:\n",
        "    return \"0\"\n",
        "\n",
        "  binary_string = \"\"\n",
        "  while decimal_number > 0:\n",
        "    remainder = decimal_number % 2\n",
        "    binary_string = str(remainder) + binary_string\n",
        "    decimal_number //= 2\n",
        "\n",
        "  return binary_string\n",
        "\n",
        "decimal_number = 20\n",
        "binary_representation = decimal_to_binary(decimal_number)\n",
        "print(f\"The binary representation of {decimal_number} is: {binary_representation}\")"
      ]
    },
    {
      "cell_type": "markdown",
      "metadata": {
        "id": "A2jMHF2E2QuM"
      },
      "source": [
        "67.\tCreate a program to generate random passwords with specified complexity."
      ]
    },
    {
      "cell_type": "code",
      "source": [
        "import random\n",
        "import string\n",
        "\n",
        "def generate_password(length, complexity):\n",
        "    characters = string.ascii_letters + string.digits\n",
        "    if complexity == \"strong\":\n",
        "        characters += string.punctuation\n",
        "    password = ''.join(random.choice(characters) for _ in range(length))\n",
        "    return password\n",
        "\n",
        "password_length = 12\n",
        "password_complexity = \"strong\"\n",
        "password = generate_password(password_length, password_complexity)\n",
        "print(password)"
      ],
      "metadata": {
        "colab": {
          "base_uri": "https://localhost:8080/"
        },
        "id": "20whVA2ml8lu",
        "outputId": "eff78cd5-a81f-4e50-b602-05899d7a244f"
      },
      "execution_count": null,
      "outputs": [
        {
          "output_type": "stream",
          "name": "stdout",
          "text": [
            "L5FqaqQto\"$#\n"
          ]
        }
      ]
    },
    {
      "cell_type": "markdown",
      "source": [
        "68.Implement a text-based version of tic-tac-toe.\n"
      ],
      "metadata": {
        "id": "VH1JtU5QmCTa"
      }
    },
    {
      "cell_type": "code",
      "source": [
        "\n",
        "def print_board(board):\n",
        "    for row in board:\n",
        "        print(\"|\".join(row))\n",
        "        print(\"-\" * 9)\n",
        "\n",
        "def check_win(board, player):\n",
        "    # Check rows\n",
        "    for row in board:\n",
        "        if all(cell == player for cell in row):\n",
        "            return True\n",
        "\n",
        "    # Check columns\n",
        "    for col in range(3):\n",
        "        if all(board[row][col] == player for row in range(3)):\n",
        "            return True\n",
        "\n",
        "    # Check diagonals\n",
        "    if all(board[i][i] == player for i in range(3)) or all(board[i][2-i] == player for i in range(3)):\n",
        "        return True\n",
        "\n",
        "    return False\n",
        "\n",
        "def play_tic_tac_toe():\n",
        "    board = [[\" \" for _ in range(3)] for _ in range(3)]\n",
        "    current_player = \"X\"\n",
        "\n",
        "    while True:\n",
        "        print_board(board)\n",
        "        row = int(input(f\"Player {current_player}, enter row (0, 1, or 2): \"))\n",
        "        col = int(input(f\"Player {current_player}, enter column (0, 1, or 2): \"))\n",
        "\n",
        "        if board[row][col] == \" \":\n",
        "            board[row][col] = current_player\n",
        "            if check_win(board, current_player):\n",
        "                print_board(board)\n",
        "                print(f\"Player {current_player} wins!\")\n",
        "                break\n",
        "            elif all(cell != \" \" for row in board for cell in row):\n",
        "                print_board(board)\n",
        "                print(\"It's a tie!\")\n",
        "                break\n",
        "            current_player = \"O\" if current_player == \"X\" else \"X\"\n",
        "        else:\n",
        "            print(\"That space is already taken. Try again.\")\n",
        "\n",
        "play_tic_tac_toe()"
      ],
      "metadata": {
        "id": "5NrSEfd1mIrs",
        "colab": {
          "base_uri": "https://localhost:8080/",
          "height": 1000
        },
        "outputId": "ca3e941b-03d1-452a-eb95-f4ea51845007"
      },
      "execution_count": null,
      "outputs": [
        {
          "name": "stdout",
          "output_type": "stream",
          "text": [
            " | | \n",
            "---------\n",
            " | | \n",
            "---------\n",
            " | | \n",
            "---------\n",
            "Player X, enter row (0, 1, or 2): 2\n",
            "Player X, enter column (0, 1, or 2): 1\n",
            " | | \n",
            "---------\n",
            " | | \n",
            "---------\n",
            " |X| \n",
            "---------\n",
            "Player O, enter row (0, 1, or 2): 2\n",
            "Player O, enter column (0, 1, or 2): 1\n",
            "That space is already taken. Try again.\n",
            " | | \n",
            "---------\n",
            " | | \n",
            "---------\n",
            " |X| \n",
            "---------\n",
            "Player O, enter row (0, 1, or 2): 2\n",
            "Player O, enter column (0, 1, or 2): 1\n",
            "That space is already taken. Try again.\n",
            " | | \n",
            "---------\n",
            " | | \n",
            "---------\n",
            " |X| \n",
            "---------\n",
            "Player O, enter row (0, 1, or 2): 0\n",
            "Player O, enter column (0, 1, or 2): 0\n",
            "O| | \n",
            "---------\n",
            " | | \n",
            "---------\n",
            " |X| \n",
            "---------\n",
            "Player X, enter row (0, 1, or 2): 0\n"
          ]
        },
        {
          "output_type": "error",
          "ename": "KeyboardInterrupt",
          "evalue": "Interrupted by user",
          "traceback": [
            "\u001b[0;31m---------------------------------------------------------------------------\u001b[0m",
            "\u001b[0;31mKeyboardInterrupt\u001b[0m                         Traceback (most recent call last)",
            "\u001b[0;32m<ipython-input-28-5ba941823f76>\u001b[0m in \u001b[0;36m<cell line: 46>\u001b[0;34m()\u001b[0m\n\u001b[1;32m     44\u001b[0m             \u001b[0mprint\u001b[0m\u001b[0;34m(\u001b[0m\u001b[0;34m\"That space is already taken. Try again.\"\u001b[0m\u001b[0;34m)\u001b[0m\u001b[0;34m\u001b[0m\u001b[0;34m\u001b[0m\u001b[0m\n\u001b[1;32m     45\u001b[0m \u001b[0;34m\u001b[0m\u001b[0m\n\u001b[0;32m---> 46\u001b[0;31m \u001b[0mplay_tic_tac_toe\u001b[0m\u001b[0;34m(\u001b[0m\u001b[0;34m)\u001b[0m\u001b[0;34m\u001b[0m\u001b[0;34m\u001b[0m\u001b[0m\n\u001b[0m",
            "\u001b[0;32m<ipython-input-28-5ba941823f76>\u001b[0m in \u001b[0;36mplay_tic_tac_toe\u001b[0;34m()\u001b[0m\n\u001b[1;32m     28\u001b[0m         \u001b[0mprint_board\u001b[0m\u001b[0;34m(\u001b[0m\u001b[0mboard\u001b[0m\u001b[0;34m)\u001b[0m\u001b[0;34m\u001b[0m\u001b[0;34m\u001b[0m\u001b[0m\n\u001b[1;32m     29\u001b[0m         \u001b[0mrow\u001b[0m \u001b[0;34m=\u001b[0m \u001b[0mint\u001b[0m\u001b[0;34m(\u001b[0m\u001b[0minput\u001b[0m\u001b[0;34m(\u001b[0m\u001b[0;34mf\"Player {current_player}, enter row (0, 1, or 2): \"\u001b[0m\u001b[0;34m)\u001b[0m\u001b[0;34m)\u001b[0m\u001b[0;34m\u001b[0m\u001b[0;34m\u001b[0m\u001b[0m\n\u001b[0;32m---> 30\u001b[0;31m         \u001b[0mcol\u001b[0m \u001b[0;34m=\u001b[0m \u001b[0mint\u001b[0m\u001b[0;34m(\u001b[0m\u001b[0minput\u001b[0m\u001b[0;34m(\u001b[0m\u001b[0;34mf\"Player {current_player}, enter column (0, 1, or 2): \"\u001b[0m\u001b[0;34m)\u001b[0m\u001b[0;34m)\u001b[0m\u001b[0;34m\u001b[0m\u001b[0;34m\u001b[0m\u001b[0m\n\u001b[0m\u001b[1;32m     31\u001b[0m \u001b[0;34m\u001b[0m\u001b[0m\n\u001b[1;32m     32\u001b[0m         \u001b[0;32mif\u001b[0m \u001b[0mboard\u001b[0m\u001b[0;34m[\u001b[0m\u001b[0mrow\u001b[0m\u001b[0;34m]\u001b[0m\u001b[0;34m[\u001b[0m\u001b[0mcol\u001b[0m\u001b[0;34m]\u001b[0m \u001b[0;34m==\u001b[0m \u001b[0;34m\" \"\u001b[0m\u001b[0;34m:\u001b[0m\u001b[0;34m\u001b[0m\u001b[0;34m\u001b[0m\u001b[0m\n",
            "\u001b[0;32m/usr/local/lib/python3.10/dist-packages/ipykernel/kernelbase.py\u001b[0m in \u001b[0;36mraw_input\u001b[0;34m(self, prompt)\u001b[0m\n\u001b[1;32m    849\u001b[0m                 \u001b[0;34m\"raw_input was called, but this frontend does not support input requests.\"\u001b[0m\u001b[0;34m\u001b[0m\u001b[0;34m\u001b[0m\u001b[0m\n\u001b[1;32m    850\u001b[0m             )\n\u001b[0;32m--> 851\u001b[0;31m         return self._input_request(str(prompt),\n\u001b[0m\u001b[1;32m    852\u001b[0m             \u001b[0mself\u001b[0m\u001b[0;34m.\u001b[0m\u001b[0m_parent_ident\u001b[0m\u001b[0;34m,\u001b[0m\u001b[0;34m\u001b[0m\u001b[0;34m\u001b[0m\u001b[0m\n\u001b[1;32m    853\u001b[0m             \u001b[0mself\u001b[0m\u001b[0;34m.\u001b[0m\u001b[0m_parent_header\u001b[0m\u001b[0;34m,\u001b[0m\u001b[0;34m\u001b[0m\u001b[0;34m\u001b[0m\u001b[0m\n",
            "\u001b[0;32m/usr/local/lib/python3.10/dist-packages/ipykernel/kernelbase.py\u001b[0m in \u001b[0;36m_input_request\u001b[0;34m(self, prompt, ident, parent, password)\u001b[0m\n\u001b[1;32m    893\u001b[0m             \u001b[0;32mexcept\u001b[0m \u001b[0mKeyboardInterrupt\u001b[0m\u001b[0;34m:\u001b[0m\u001b[0;34m\u001b[0m\u001b[0;34m\u001b[0m\u001b[0m\n\u001b[1;32m    894\u001b[0m                 \u001b[0;31m# re-raise KeyboardInterrupt, to truncate traceback\u001b[0m\u001b[0;34m\u001b[0m\u001b[0;34m\u001b[0m\u001b[0m\n\u001b[0;32m--> 895\u001b[0;31m                 \u001b[0;32mraise\u001b[0m \u001b[0mKeyboardInterrupt\u001b[0m\u001b[0;34m(\u001b[0m\u001b[0;34m\"Interrupted by user\"\u001b[0m\u001b[0;34m)\u001b[0m \u001b[0;32mfrom\u001b[0m \u001b[0;32mNone\u001b[0m\u001b[0;34m\u001b[0m\u001b[0;34m\u001b[0m\u001b[0m\n\u001b[0m\u001b[1;32m    896\u001b[0m             \u001b[0;32mexcept\u001b[0m \u001b[0mException\u001b[0m \u001b[0;32mas\u001b[0m \u001b[0me\u001b[0m\u001b[0;34m:\u001b[0m\u001b[0;34m\u001b[0m\u001b[0;34m\u001b[0m\u001b[0m\n\u001b[1;32m    897\u001b[0m                 \u001b[0mself\u001b[0m\u001b[0;34m.\u001b[0m\u001b[0mlog\u001b[0m\u001b[0;34m.\u001b[0m\u001b[0mwarning\u001b[0m\u001b[0;34m(\u001b[0m\u001b[0;34m\"Invalid Message:\"\u001b[0m\u001b[0;34m,\u001b[0m \u001b[0mexc_info\u001b[0m\u001b[0;34m=\u001b[0m\u001b[0;32mTrue\u001b[0m\u001b[0;34m)\u001b[0m\u001b[0;34m\u001b[0m\u001b[0;34m\u001b[0m\u001b[0m\n",
            "\u001b[0;31mKeyboardInterrupt\u001b[0m: Interrupted by user"
          ]
        }
      ]
    },
    {
      "cell_type": "markdown",
      "source": [
        "69.Write a script that applies basic text analysis on a provided text file.\n"
      ],
      "metadata": {
        "id": "SWHwK5JWmnw8"
      }
    },
    {
      "cell_type": "code",
      "source": [
        "def analyze_text(file_path):\n",
        "    with open(file_path, 'r') as f:\n",
        "        text = f.read()\n",
        "\n",
        "    word_count = len(text.split())\n",
        "    character_count = len(text)\n",
        "    line_count = text.count('\\n')\n",
        "\n",
        "    print(\"Word count:\", word_count)\n",
        "    print(\"Character count:\", character_count)\n",
        "    print(\"Line count:\", line_count)\n",
        "\n",
        "file_path = \"your_text_file.txt\"\n",
        "analyze_text(file_path)"
      ],
      "metadata": {
        "id": "puN7iW3PgVaY",
        "colab": {
          "base_uri": "https://localhost:8080/",
          "height": 309
        },
        "outputId": "1afde722-1cb4-42dd-87df-2e1971f33df8"
      },
      "execution_count": null,
      "outputs": [
        {
          "output_type": "error",
          "ename": "FileNotFoundError",
          "evalue": "[Errno 2] No such file or directory: 'your_text_file.txt'",
          "traceback": [
            "\u001b[0;31m---------------------------------------------------------------------------\u001b[0m",
            "\u001b[0;31mFileNotFoundError\u001b[0m                         Traceback (most recent call last)",
            "\u001b[0;32m<ipython-input-29-6030d22c4fc1>\u001b[0m in \u001b[0;36m<cell line: 14>\u001b[0;34m()\u001b[0m\n\u001b[1;32m     12\u001b[0m \u001b[0;34m\u001b[0m\u001b[0m\n\u001b[1;32m     13\u001b[0m \u001b[0mfile_path\u001b[0m \u001b[0;34m=\u001b[0m \u001b[0;34m\"your_text_file.txt\"\u001b[0m\u001b[0;34m\u001b[0m\u001b[0;34m\u001b[0m\u001b[0m\n\u001b[0;32m---> 14\u001b[0;31m \u001b[0manalyze_text\u001b[0m\u001b[0;34m(\u001b[0m\u001b[0mfile_path\u001b[0m\u001b[0;34m)\u001b[0m\u001b[0;34m\u001b[0m\u001b[0;34m\u001b[0m\u001b[0m\n\u001b[0m",
            "\u001b[0;32m<ipython-input-29-6030d22c4fc1>\u001b[0m in \u001b[0;36manalyze_text\u001b[0;34m(file_path)\u001b[0m\n\u001b[1;32m      1\u001b[0m \u001b[0;32mdef\u001b[0m \u001b[0manalyze_text\u001b[0m\u001b[0;34m(\u001b[0m\u001b[0mfile_path\u001b[0m\u001b[0;34m)\u001b[0m\u001b[0;34m:\u001b[0m\u001b[0;34m\u001b[0m\u001b[0;34m\u001b[0m\u001b[0m\n\u001b[0;32m----> 2\u001b[0;31m     \u001b[0;32mwith\u001b[0m \u001b[0mopen\u001b[0m\u001b[0;34m(\u001b[0m\u001b[0mfile_path\u001b[0m\u001b[0;34m,\u001b[0m \u001b[0;34m'r'\u001b[0m\u001b[0;34m)\u001b[0m \u001b[0;32mas\u001b[0m \u001b[0mf\u001b[0m\u001b[0;34m:\u001b[0m\u001b[0;34m\u001b[0m\u001b[0;34m\u001b[0m\u001b[0m\n\u001b[0m\u001b[1;32m      3\u001b[0m         \u001b[0mtext\u001b[0m \u001b[0;34m=\u001b[0m \u001b[0mf\u001b[0m\u001b[0;34m.\u001b[0m\u001b[0mread\u001b[0m\u001b[0;34m(\u001b[0m\u001b[0;34m)\u001b[0m\u001b[0;34m\u001b[0m\u001b[0;34m\u001b[0m\u001b[0m\n\u001b[1;32m      4\u001b[0m \u001b[0;34m\u001b[0m\u001b[0m\n\u001b[1;32m      5\u001b[0m     \u001b[0mword_count\u001b[0m \u001b[0;34m=\u001b[0m \u001b[0mlen\u001b[0m\u001b[0;34m(\u001b[0m\u001b[0mtext\u001b[0m\u001b[0;34m.\u001b[0m\u001b[0msplit\u001b[0m\u001b[0;34m(\u001b[0m\u001b[0;34m)\u001b[0m\u001b[0;34m)\u001b[0m\u001b[0;34m\u001b[0m\u001b[0;34m\u001b[0m\u001b[0m\n",
            "\u001b[0;31mFileNotFoundError\u001b[0m: [Errno 2] No such file or directory: 'your_text_file.txt'"
          ]
        }
      ]
    },
    {
      "cell_type": "markdown",
      "source": [
        "70.Develop a simple task scheduler that runs functions at specified intervals.\n"
      ],
      "metadata": {
        "id": "h8GuDx7mm0ZR"
      }
    },
    {
      "cell_type": "code",
      "source": [
        "import time\n",
        "import threading\n",
        "\n",
        "def schedule_task(func, interval):\n",
        "    def wrapper():\n",
        "        while True:\n",
        "            func()\n",
        "            time.sleep(interval)\n",
        "    t = threading.Thread(target=wrapper)\n",
        "    t.start()\n",
        "\n",
        "def print_hello():\n",
        "    print(\"Hello, world!\")\n",
        "\n",
        "schedule_task(print_hello, 5)  # Print \"Hello, world!\" every 5 seconds"
      ],
      "metadata": {
        "colab": {
          "base_uri": "https://localhost:8080/"
        },
        "id": "pGNxNWFKggFx",
        "outputId": "b904beac-cad3-45c5-f7ab-0c2cdd9a9cec"
      },
      "execution_count": null,
      "outputs": [
        {
          "output_type": "stream",
          "name": "stdout",
          "text": [
            "Hello, world!\n"
          ]
        }
      ]
    },
    {
      "cell_type": "markdown",
      "source": [
        "71.Create a budgeting application that tracks expenses using classes.\n"
      ],
      "metadata": {
        "id": "DHfuvAr_nBE1"
      }
    },
    {
      "cell_type": "code",
      "source": [
        "class Expense:\n",
        "    def __init__(self, category, amount, date):\n",
        "        self.category = category\n",
        "        self.amount = amount\n",
        "        self.date = date\n",
        "\n",
        "class Budget:\n",
        "    def __init__(self, monthly_budget):\n",
        "        self.monthly_budget = monthly_budget\n",
        "        self.expenses = []\n",
        "\n",
        "    def add_expense(self, expense):\n",
        "        self.expenses.append(expense)\n",
        "\n",
        "    def total_expenses(self):\n",
        "        total = 0\n",
        "        for expense in self.expenses:\n",
        "            total += expense.amount\n",
        "        return total\n",
        "\n",
        "    def remaining_budget(self):\n",
        "        return self.monthly_budget - self.total_expenses()\n",
        "\n",
        "budget = Budget(1000)\n",
        "expense1 = Expense(\"Groceries\", 200, \"2023-11-25\")\n",
        "expense2 = Expense(\"Rent\", 500, \"2023-12-01\")\n",
        "budget.add_expense(expense1)\n",
        "budget.add_expense(expense2)\n",
        "\n",
        "print(\"Total Expenses:\", budget.total_expenses())\n",
        "print(\"Remaining Budget:\", budget.remaining_budget())"
      ],
      "metadata": {
        "colab": {
          "base_uri": "https://localhost:8080/"
        },
        "id": "Mi1wEiQvgppW",
        "outputId": "6ba4cf1c-c2fd-474b-a987-d4992ec4f56c"
      },
      "execution_count": null,
      "outputs": [
        {
          "output_type": "stream",
          "name": "stdout",
          "text": [
            "Total Expenses: 700\n",
            "Remaining Budget: 300\n"
          ]
        }
      ]
    },
    {
      "cell_type": "markdown",
      "source": [
        "72.Write a program that analyzes and visualizes stock market data.\n"
      ],
      "metadata": {
        "id": "-uFObCqanOWl"
      }
    },
    {
      "cell_type": "code",
      "source": [
        "import pandas as pd\n",
        "import matplotlib.pyplot as plt\n",
        "\n",
        "def analyze_stock(ticker):\n",
        "    df = pd.read_csv(f\"{ticker}.csv\")\n",
        "    df['Date'] = pd.to_datetime(df['Date'])\n",
        "    df.set_index('Date', inplace=True)\n",
        "\n",
        "    # Basic analysis\n",
        "    print(df.head())\n",
        "    print(df.describe())\n",
        "\n",
        "    # Plotting\n",
        "    plt.figure(figsize=(12, 6))\n",
        "    plt.plot(df['Close'])\n",
        "    plt.xlabel('Date')\n",
        "    plt.ylabel('Closing Price')\n",
        "    plt.title(f'Closing Price of {ticker}')\n",
        "    plt.show()\n",
        "\n",
        "# Example usage\n",
        "ticker = 'AAPL'\n",
        "analyze_stock(ticker)"
      ],
      "metadata": {
        "id": "ccrL73Nfg2o5",
        "colab": {
          "base_uri": "https://localhost:8080/",
          "height": 351
        },
        "outputId": "52dda2da-3cbd-40c5-9010-9434d4c19a17"
      },
      "execution_count": null,
      "outputs": [
        {
          "output_type": "error",
          "ename": "FileNotFoundError",
          "evalue": "[Errno 2] No such file or directory: 'AAPL.csv'",
          "traceback": [
            "\u001b[0;31m---------------------------------------------------------------------------\u001b[0m",
            "\u001b[0;31mFileNotFoundError\u001b[0m                         Traceback (most recent call last)",
            "\u001b[0;32m<ipython-input-30-0c95448ddd82>\u001b[0m in \u001b[0;36m<cell line: 23>\u001b[0;34m()\u001b[0m\n\u001b[1;32m     21\u001b[0m \u001b[0;31m# Example usage\u001b[0m\u001b[0;34m\u001b[0m\u001b[0;34m\u001b[0m\u001b[0m\n\u001b[1;32m     22\u001b[0m \u001b[0mticker\u001b[0m \u001b[0;34m=\u001b[0m \u001b[0;34m'AAPL'\u001b[0m\u001b[0;34m\u001b[0m\u001b[0;34m\u001b[0m\u001b[0m\n\u001b[0;32m---> 23\u001b[0;31m \u001b[0manalyze_stock\u001b[0m\u001b[0;34m(\u001b[0m\u001b[0mticker\u001b[0m\u001b[0;34m)\u001b[0m\u001b[0;34m\u001b[0m\u001b[0;34m\u001b[0m\u001b[0m\n\u001b[0m",
            "\u001b[0;32m<ipython-input-30-0c95448ddd82>\u001b[0m in \u001b[0;36manalyze_stock\u001b[0;34m(ticker)\u001b[0m\n\u001b[1;32m      3\u001b[0m \u001b[0;34m\u001b[0m\u001b[0m\n\u001b[1;32m      4\u001b[0m \u001b[0;32mdef\u001b[0m \u001b[0manalyze_stock\u001b[0m\u001b[0;34m(\u001b[0m\u001b[0mticker\u001b[0m\u001b[0;34m)\u001b[0m\u001b[0;34m:\u001b[0m\u001b[0;34m\u001b[0m\u001b[0;34m\u001b[0m\u001b[0m\n\u001b[0;32m----> 5\u001b[0;31m     \u001b[0mdf\u001b[0m \u001b[0;34m=\u001b[0m \u001b[0mpd\u001b[0m\u001b[0;34m.\u001b[0m\u001b[0mread_csv\u001b[0m\u001b[0;34m(\u001b[0m\u001b[0;34mf\"{ticker}.csv\"\u001b[0m\u001b[0;34m)\u001b[0m\u001b[0;34m\u001b[0m\u001b[0;34m\u001b[0m\u001b[0m\n\u001b[0m\u001b[1;32m      6\u001b[0m     \u001b[0mdf\u001b[0m\u001b[0;34m[\u001b[0m\u001b[0;34m'Date'\u001b[0m\u001b[0;34m]\u001b[0m \u001b[0;34m=\u001b[0m \u001b[0mpd\u001b[0m\u001b[0;34m.\u001b[0m\u001b[0mto_datetime\u001b[0m\u001b[0;34m(\u001b[0m\u001b[0mdf\u001b[0m\u001b[0;34m[\u001b[0m\u001b[0;34m'Date'\u001b[0m\u001b[0;34m]\u001b[0m\u001b[0;34m)\u001b[0m\u001b[0;34m\u001b[0m\u001b[0;34m\u001b[0m\u001b[0m\n\u001b[1;32m      7\u001b[0m     \u001b[0mdf\u001b[0m\u001b[0;34m.\u001b[0m\u001b[0mset_index\u001b[0m\u001b[0;34m(\u001b[0m\u001b[0;34m'Date'\u001b[0m\u001b[0;34m,\u001b[0m \u001b[0minplace\u001b[0m\u001b[0;34m=\u001b[0m\u001b[0;32mTrue\u001b[0m\u001b[0;34m)\u001b[0m\u001b[0;34m\u001b[0m\u001b[0;34m\u001b[0m\u001b[0m\n",
            "\u001b[0;32m/usr/local/lib/python3.10/dist-packages/pandas/io/parsers/readers.py\u001b[0m in \u001b[0;36mread_csv\u001b[0;34m(filepath_or_buffer, sep, delimiter, header, names, index_col, usecols, dtype, engine, converters, true_values, false_values, skipinitialspace, skiprows, skipfooter, nrows, na_values, keep_default_na, na_filter, verbose, skip_blank_lines, parse_dates, infer_datetime_format, keep_date_col, date_parser, date_format, dayfirst, cache_dates, iterator, chunksize, compression, thousands, decimal, lineterminator, quotechar, quoting, doublequote, escapechar, comment, encoding, encoding_errors, dialect, on_bad_lines, delim_whitespace, low_memory, memory_map, float_precision, storage_options, dtype_backend)\u001b[0m\n\u001b[1;32m   1024\u001b[0m     \u001b[0mkwds\u001b[0m\u001b[0;34m.\u001b[0m\u001b[0mupdate\u001b[0m\u001b[0;34m(\u001b[0m\u001b[0mkwds_defaults\u001b[0m\u001b[0;34m)\u001b[0m\u001b[0;34m\u001b[0m\u001b[0;34m\u001b[0m\u001b[0m\n\u001b[1;32m   1025\u001b[0m \u001b[0;34m\u001b[0m\u001b[0m\n\u001b[0;32m-> 1026\u001b[0;31m     \u001b[0;32mreturn\u001b[0m \u001b[0m_read\u001b[0m\u001b[0;34m(\u001b[0m\u001b[0mfilepath_or_buffer\u001b[0m\u001b[0;34m,\u001b[0m \u001b[0mkwds\u001b[0m\u001b[0;34m)\u001b[0m\u001b[0;34m\u001b[0m\u001b[0;34m\u001b[0m\u001b[0m\n\u001b[0m\u001b[1;32m   1027\u001b[0m \u001b[0;34m\u001b[0m\u001b[0m\n\u001b[1;32m   1028\u001b[0m \u001b[0;34m\u001b[0m\u001b[0m\n",
            "\u001b[0;32m/usr/local/lib/python3.10/dist-packages/pandas/io/parsers/readers.py\u001b[0m in \u001b[0;36m_read\u001b[0;34m(filepath_or_buffer, kwds)\u001b[0m\n\u001b[1;32m    618\u001b[0m \u001b[0;34m\u001b[0m\u001b[0m\n\u001b[1;32m    619\u001b[0m     \u001b[0;31m# Create the parser.\u001b[0m\u001b[0;34m\u001b[0m\u001b[0;34m\u001b[0m\u001b[0m\n\u001b[0;32m--> 620\u001b[0;31m     \u001b[0mparser\u001b[0m \u001b[0;34m=\u001b[0m \u001b[0mTextFileReader\u001b[0m\u001b[0;34m(\u001b[0m\u001b[0mfilepath_or_buffer\u001b[0m\u001b[0;34m,\u001b[0m \u001b[0;34m**\u001b[0m\u001b[0mkwds\u001b[0m\u001b[0;34m)\u001b[0m\u001b[0;34m\u001b[0m\u001b[0;34m\u001b[0m\u001b[0m\n\u001b[0m\u001b[1;32m    621\u001b[0m \u001b[0;34m\u001b[0m\u001b[0m\n\u001b[1;32m    622\u001b[0m     \u001b[0;32mif\u001b[0m \u001b[0mchunksize\u001b[0m \u001b[0;32mor\u001b[0m \u001b[0miterator\u001b[0m\u001b[0;34m:\u001b[0m\u001b[0;34m\u001b[0m\u001b[0;34m\u001b[0m\u001b[0m\n",
            "\u001b[0;32m/usr/local/lib/python3.10/dist-packages/pandas/io/parsers/readers.py\u001b[0m in \u001b[0;36m__init__\u001b[0;34m(self, f, engine, **kwds)\u001b[0m\n\u001b[1;32m   1618\u001b[0m \u001b[0;34m\u001b[0m\u001b[0m\n\u001b[1;32m   1619\u001b[0m         \u001b[0mself\u001b[0m\u001b[0;34m.\u001b[0m\u001b[0mhandles\u001b[0m\u001b[0;34m:\u001b[0m \u001b[0mIOHandles\u001b[0m \u001b[0;34m|\u001b[0m \u001b[0;32mNone\u001b[0m \u001b[0;34m=\u001b[0m \u001b[0;32mNone\u001b[0m\u001b[0;34m\u001b[0m\u001b[0;34m\u001b[0m\u001b[0m\n\u001b[0;32m-> 1620\u001b[0;31m         \u001b[0mself\u001b[0m\u001b[0;34m.\u001b[0m\u001b[0m_engine\u001b[0m \u001b[0;34m=\u001b[0m \u001b[0mself\u001b[0m\u001b[0;34m.\u001b[0m\u001b[0m_make_engine\u001b[0m\u001b[0;34m(\u001b[0m\u001b[0mf\u001b[0m\u001b[0;34m,\u001b[0m \u001b[0mself\u001b[0m\u001b[0;34m.\u001b[0m\u001b[0mengine\u001b[0m\u001b[0;34m)\u001b[0m\u001b[0;34m\u001b[0m\u001b[0;34m\u001b[0m\u001b[0m\n\u001b[0m\u001b[1;32m   1621\u001b[0m \u001b[0;34m\u001b[0m\u001b[0m\n\u001b[1;32m   1622\u001b[0m     \u001b[0;32mdef\u001b[0m \u001b[0mclose\u001b[0m\u001b[0;34m(\u001b[0m\u001b[0mself\u001b[0m\u001b[0;34m)\u001b[0m \u001b[0;34m->\u001b[0m \u001b[0;32mNone\u001b[0m\u001b[0;34m:\u001b[0m\u001b[0;34m\u001b[0m\u001b[0;34m\u001b[0m\u001b[0m\n",
            "\u001b[0;32m/usr/local/lib/python3.10/dist-packages/pandas/io/parsers/readers.py\u001b[0m in \u001b[0;36m_make_engine\u001b[0;34m(self, f, engine)\u001b[0m\n\u001b[1;32m   1878\u001b[0m                 \u001b[0;32mif\u001b[0m \u001b[0;34m\"b\"\u001b[0m \u001b[0;32mnot\u001b[0m \u001b[0;32min\u001b[0m \u001b[0mmode\u001b[0m\u001b[0;34m:\u001b[0m\u001b[0;34m\u001b[0m\u001b[0;34m\u001b[0m\u001b[0m\n\u001b[1;32m   1879\u001b[0m                     \u001b[0mmode\u001b[0m \u001b[0;34m+=\u001b[0m \u001b[0;34m\"b\"\u001b[0m\u001b[0;34m\u001b[0m\u001b[0;34m\u001b[0m\u001b[0m\n\u001b[0;32m-> 1880\u001b[0;31m             self.handles = get_handle(\n\u001b[0m\u001b[1;32m   1881\u001b[0m                 \u001b[0mf\u001b[0m\u001b[0;34m,\u001b[0m\u001b[0;34m\u001b[0m\u001b[0;34m\u001b[0m\u001b[0m\n\u001b[1;32m   1882\u001b[0m                 \u001b[0mmode\u001b[0m\u001b[0;34m,\u001b[0m\u001b[0;34m\u001b[0m\u001b[0;34m\u001b[0m\u001b[0m\n",
            "\u001b[0;32m/usr/local/lib/python3.10/dist-packages/pandas/io/common.py\u001b[0m in \u001b[0;36mget_handle\u001b[0;34m(path_or_buf, mode, encoding, compression, memory_map, is_text, errors, storage_options)\u001b[0m\n\u001b[1;32m    871\u001b[0m         \u001b[0;32mif\u001b[0m \u001b[0mioargs\u001b[0m\u001b[0;34m.\u001b[0m\u001b[0mencoding\u001b[0m \u001b[0;32mand\u001b[0m \u001b[0;34m\"b\"\u001b[0m \u001b[0;32mnot\u001b[0m \u001b[0;32min\u001b[0m \u001b[0mioargs\u001b[0m\u001b[0;34m.\u001b[0m\u001b[0mmode\u001b[0m\u001b[0;34m:\u001b[0m\u001b[0;34m\u001b[0m\u001b[0;34m\u001b[0m\u001b[0m\n\u001b[1;32m    872\u001b[0m             \u001b[0;31m# Encoding\u001b[0m\u001b[0;34m\u001b[0m\u001b[0;34m\u001b[0m\u001b[0m\n\u001b[0;32m--> 873\u001b[0;31m             handle = open(\n\u001b[0m\u001b[1;32m    874\u001b[0m                 \u001b[0mhandle\u001b[0m\u001b[0;34m,\u001b[0m\u001b[0;34m\u001b[0m\u001b[0;34m\u001b[0m\u001b[0m\n\u001b[1;32m    875\u001b[0m                 \u001b[0mioargs\u001b[0m\u001b[0;34m.\u001b[0m\u001b[0mmode\u001b[0m\u001b[0;34m,\u001b[0m\u001b[0;34m\u001b[0m\u001b[0;34m\u001b[0m\u001b[0m\n",
            "\u001b[0;31mFileNotFoundError\u001b[0m: [Errno 2] No such file or directory: 'AAPL.csv'"
          ]
        }
      ]
    },
    {
      "cell_type": "markdown",
      "source": [
        "73.Develop a Python script that automates file organization based on file types."
      ],
      "metadata": {
        "id": "0Bl293lSnoLL"
      }
    },
    {
      "cell_type": "code",
      "source": [
        "import os\n",
        "import shutil\n",
        "\n",
        "def organize_files(directory):\n",
        "    file_types = {\n",
        "        'documents': ('.doc', '.docx', '.pdf', '.txt'),\n",
        "        'images': ('.jpg', '.jpeg', '.png', '.gif'),\n",
        "        'videos': ('.mp4', '.avi', '.mov'),\n",
        "        'music': ('.mp3', '.wav', '.flac'),\n",
        "        'archives': ('.zip', '.rar', '.7z'),\n",
        "        'others': ()\n",
        "    }\n",
        "\n",
        "    for root, dirs, files in os.walk(directory):\n",
        "        for file in files:\n",
        "            file_path = os.path.join(root, file)\n",
        "            file_extension = os.path.splitext(file)[1].lower()\n",
        "            found = False\n",
        "\n",
        "            for file_type, extensions in file_types.items():\n",
        "                if file_extension in extensions:\n",
        "                    file_type_dir = os.path.join(directory, file_type)\n",
        "                    if not os.path.exists(file_type_dir):\n",
        "                        os.makedirs(file_type_dir)\n",
        "                    shutil.move(file_path, file_type_dir)\n",
        "                    found = True\n",
        "                    break\n",
        "\n",
        "            if not found:\n",
        "                other_dir = os.path.join(directory, 'others')\n",
        "                if not os.path.exists(other_dir):\n",
        "                    os.makedirs(other_dir)\n",
        "                shutil.move(file_path, other_dir)\n",
        "\n",
        "directory_to_organize = \"path/to/your/directory\"\n",
        "organize_files(directory_to_organize)\n",
        "print(organize_files)"
      ],
      "metadata": {
        "id": "gymhtl9BhBVO",
        "colab": {
          "base_uri": "https://localhost:8080/"
        },
        "outputId": "c039ad9e-3568-475f-c2c6-00cccb65b0c0"
      },
      "execution_count": null,
      "outputs": [
        {
          "output_type": "stream",
          "name": "stdout",
          "text": [
            "<function organize_files at 0x787e1cc50ee0>\n"
          ]
        }
      ]
    },
    {
      "cell_type": "markdown",
      "source": [
        "74.Create a system for monitoring server performance metrics and notifying on anomalies.\n"
      ],
      "metadata": {
        "id": "PqCxxEBun-V7"
      }
    },
    {
      "cell_type": "markdown",
      "source": [
        "75.Build a simple e-commerce cart system using classes and functions.\n"
      ],
      "metadata": {
        "id": "boZrlztsoL79"
      }
    },
    {
      "cell_type": "code",
      "source": [
        "class Product:\n",
        "    def __init__(self, name, price):\n",
        "        self.name = name\n",
        "        self.price = price\n",
        "\n",
        "class Cart:\n",
        "    def __init__(self):\n",
        "        self.items = []\n",
        "\n",
        "    def add_item(self, product):\n",
        "        self.items.append(product)\n",
        "\n",
        "    def remove_item(self, product):\n",
        "        self.items.remove(product)\n",
        "\n",
        "    def calculate_total(self):\n",
        "        total = 0\n",
        "        for item in self.items:\n",
        "            total += item.price\n",
        "        return total\n",
        "\n",
        "product1 = Product(\"Laptop\", 800)\n",
        "product2 = Product(\"Phone\", 500)\n",
        "\n",
        "cart = Cart()\n",
        "cart.add_item(product1)\n",
        "cart.add_item(product2)\n",
        "\n",
        "print(\"Total Price:\", cart.calculate_total())"
      ],
      "metadata": {
        "colab": {
          "base_uri": "https://localhost:8080/"
        },
        "id": "ZwzGW6O5hcMm",
        "outputId": "504ac1c1-ea9f-4558-d2b3-5d9679d1d870"
      },
      "execution_count": null,
      "outputs": [
        {
          "output_type": "stream",
          "name": "stdout",
          "text": [
            "Total Price: 1300\n"
          ]
        }
      ]
    },
    {
      "cell_type": "markdown",
      "source": [
        "76.Implement a user authentication system with classes and file storage.\n"
      ],
      "metadata": {
        "id": "k1AgLWP4oXNE"
      }
    },
    {
      "source": [
        "self.users = json.load(f)"
      ],
      "cell_type": "code",
      "metadata": {
        "colab": {
          "base_uri": "https://localhost:8080/",
          "height": 146
        },
        "id": "odB2QDqLG5zK",
        "outputId": "18385709-0df3-4c5b-b224-357145013372"
      },
      "execution_count": null,
      "outputs": [
        {
          "output_type": "error",
          "ename": "NameError",
          "evalue": "name 'f' is not defined",
          "traceback": [
            "\u001b[0;31m---------------------------------------------------------------------------\u001b[0m",
            "\u001b[0;31mNameError\u001b[0m                                 Traceback (most recent call last)",
            "\u001b[0;32m<ipython-input-35-d361d046ff10>\u001b[0m in \u001b[0;36m<cell line: 1>\u001b[0;34m()\u001b[0m\n\u001b[0;32m----> 1\u001b[0;31m \u001b[0mself\u001b[0m\u001b[0;34m.\u001b[0m\u001b[0musers\u001b[0m \u001b[0;34m=\u001b[0m \u001b[0mjson\u001b[0m\u001b[0;34m.\u001b[0m\u001b[0mload\u001b[0m\u001b[0;34m(\u001b[0m\u001b[0mf\u001b[0m\u001b[0;34m)\u001b[0m\u001b[0;34m\u001b[0m\u001b[0;34m\u001b[0m\u001b[0m\n\u001b[0m",
            "\u001b[0;31mNameError\u001b[0m: name 'f' is not defined"
          ]
        }
      ]
    },
    {
      "cell_type": "code",
      "source": [
        "import json\n",
        "\n",
        "class User:\n",
        "    def __init__(self, username, password):\n",
        "        self.username = username\n",
        "        self.password = password\n",
        "\n",
        "class AuthenticationSystem:\n",
        "    def __init__(self, filename):\n",
        "        self.filename = filename\n",
        "        self.load_users()\n",
        "\n",
        "    def load_users(self):\n",
        "        try:\n",
        "            with open(self.filename, 'r') as f:\n",
        "                self.users = json.load(f)\n",
        "        except FileNotFoundError:\n",
        "            self.users = []\n",
        "\n",
        "    def save_users(self):\n",
        "        with open(self.filename, 'w') as f:\n",
        "            json.dump(self.users, f, indent=4)\n",
        "\n",
        "    def register_user(self, username, password):\n",
        "        new_user = User(username, password)\n",
        "        self.users.append(new_user)\n",
        "        self.save_users()\n",
        "\n",
        "    def login(self, username, password):\n",
        "        for user in self.users:\n",
        "            if user.username == username and user.password == password:\n",
        "                return True\n",
        "        return False\n",
        "\n",
        "auth_system = AuthenticationSystem(\"users.json\")\n",
        "\n",
        "auth_system.register_user(\"user1\", \"password123\")\n",
        "\n",
        "if auth_system.login(\"user1\", \"password123\"):\n",
        "    print(\"Login successful\")\n",
        "else:\n",
        "    print(\"Login failed\")"
      ],
      "metadata": {
        "id": "5ZOmYdmIhnWu",
        "colab": {
          "base_uri": "https://localhost:8080/",
          "height": 351
        },
        "outputId": "17c1963a-7d45-4fbc-da41-e4194f44576e"
      },
      "execution_count": null,
      "outputs": [
        {
          "output_type": "error",
          "ename": "JSONDecodeError",
          "evalue": "Expecting value: line 2 column 5 (char 6)",
          "traceback": [
            "\u001b[0;31m---------------------------------------------------------------------------\u001b[0m",
            "\u001b[0;31mJSONDecodeError\u001b[0m                           Traceback (most recent call last)",
            "\u001b[0;32m<ipython-input-11-0997a7d0d8da>\u001b[0m in \u001b[0;36m<cell line: 35>\u001b[0;34m()\u001b[0m\n\u001b[1;32m     33\u001b[0m         \u001b[0;32mreturn\u001b[0m \u001b[0;32mFalse\u001b[0m\u001b[0;34m\u001b[0m\u001b[0;34m\u001b[0m\u001b[0m\n\u001b[1;32m     34\u001b[0m \u001b[0;34m\u001b[0m\u001b[0m\n\u001b[0;32m---> 35\u001b[0;31m \u001b[0mauth_system\u001b[0m \u001b[0;34m=\u001b[0m \u001b[0mAuthenticationSystem\u001b[0m\u001b[0;34m(\u001b[0m\u001b[0;34m\"users.json\"\u001b[0m\u001b[0;34m)\u001b[0m\u001b[0;34m\u001b[0m\u001b[0;34m\u001b[0m\u001b[0m\n\u001b[0m\u001b[1;32m     36\u001b[0m \u001b[0;34m\u001b[0m\u001b[0m\n\u001b[1;32m     37\u001b[0m \u001b[0mauth_system\u001b[0m\u001b[0;34m.\u001b[0m\u001b[0mregister_user\u001b[0m\u001b[0;34m(\u001b[0m\u001b[0;34m\"user1\"\u001b[0m\u001b[0;34m,\u001b[0m \u001b[0;34m\"password123\"\u001b[0m\u001b[0;34m)\u001b[0m\u001b[0;34m\u001b[0m\u001b[0;34m\u001b[0m\u001b[0m\n",
            "\u001b[0;32m<ipython-input-11-0997a7d0d8da>\u001b[0m in \u001b[0;36m__init__\u001b[0;34m(self, filename)\u001b[0m\n\u001b[1;32m      9\u001b[0m     \u001b[0;32mdef\u001b[0m \u001b[0m__init__\u001b[0m\u001b[0;34m(\u001b[0m\u001b[0mself\u001b[0m\u001b[0;34m,\u001b[0m \u001b[0mfilename\u001b[0m\u001b[0;34m)\u001b[0m\u001b[0;34m:\u001b[0m\u001b[0;34m\u001b[0m\u001b[0;34m\u001b[0m\u001b[0m\n\u001b[1;32m     10\u001b[0m         \u001b[0mself\u001b[0m\u001b[0;34m.\u001b[0m\u001b[0mfilename\u001b[0m \u001b[0;34m=\u001b[0m \u001b[0mfilename\u001b[0m\u001b[0;34m\u001b[0m\u001b[0;34m\u001b[0m\u001b[0m\n\u001b[0;32m---> 11\u001b[0;31m         \u001b[0mself\u001b[0m\u001b[0;34m.\u001b[0m\u001b[0mload_users\u001b[0m\u001b[0;34m(\u001b[0m\u001b[0;34m)\u001b[0m\u001b[0;34m\u001b[0m\u001b[0;34m\u001b[0m\u001b[0m\n\u001b[0m\u001b[1;32m     12\u001b[0m \u001b[0;34m\u001b[0m\u001b[0m\n\u001b[1;32m     13\u001b[0m     \u001b[0;32mdef\u001b[0m \u001b[0mload_users\u001b[0m\u001b[0;34m(\u001b[0m\u001b[0mself\u001b[0m\u001b[0;34m)\u001b[0m\u001b[0;34m:\u001b[0m\u001b[0;34m\u001b[0m\u001b[0;34m\u001b[0m\u001b[0m\n",
            "\u001b[0;32m<ipython-input-11-0997a7d0d8da>\u001b[0m in \u001b[0;36mload_users\u001b[0;34m(self)\u001b[0m\n\u001b[1;32m     14\u001b[0m         \u001b[0;32mtry\u001b[0m\u001b[0;34m:\u001b[0m\u001b[0;34m\u001b[0m\u001b[0;34m\u001b[0m\u001b[0m\n\u001b[1;32m     15\u001b[0m             \u001b[0;32mwith\u001b[0m \u001b[0mopen\u001b[0m\u001b[0;34m(\u001b[0m\u001b[0mself\u001b[0m\u001b[0;34m.\u001b[0m\u001b[0mfilename\u001b[0m\u001b[0;34m,\u001b[0m \u001b[0;34m'r'\u001b[0m\u001b[0;34m)\u001b[0m \u001b[0;32mas\u001b[0m \u001b[0mf\u001b[0m\u001b[0;34m:\u001b[0m\u001b[0;34m\u001b[0m\u001b[0;34m\u001b[0m\u001b[0m\n\u001b[0;32m---> 16\u001b[0;31m                 \u001b[0mself\u001b[0m\u001b[0;34m.\u001b[0m\u001b[0musers\u001b[0m \u001b[0;34m=\u001b[0m \u001b[0mjson\u001b[0m\u001b[0;34m.\u001b[0m\u001b[0mload\u001b[0m\u001b[0;34m(\u001b[0m\u001b[0mf\u001b[0m\u001b[0;34m)\u001b[0m\u001b[0;34m\u001b[0m\u001b[0;34m\u001b[0m\u001b[0m\n\u001b[0m\u001b[1;32m     17\u001b[0m         \u001b[0;32mexcept\u001b[0m \u001b[0mFileNotFoundError\u001b[0m\u001b[0;34m:\u001b[0m\u001b[0;34m\u001b[0m\u001b[0;34m\u001b[0m\u001b[0m\n\u001b[1;32m     18\u001b[0m             \u001b[0mself\u001b[0m\u001b[0;34m.\u001b[0m\u001b[0musers\u001b[0m \u001b[0;34m=\u001b[0m \u001b[0;34m[\u001b[0m\u001b[0;34m]\u001b[0m\u001b[0;34m\u001b[0m\u001b[0;34m\u001b[0m\u001b[0m\n",
            "\u001b[0;32m/usr/lib/python3.10/json/__init__.py\u001b[0m in \u001b[0;36mload\u001b[0;34m(fp, cls, object_hook, parse_float, parse_int, parse_constant, object_pairs_hook, **kw)\u001b[0m\n\u001b[1;32m    291\u001b[0m     \u001b[0mkwarg\u001b[0m\u001b[0;34m;\u001b[0m \u001b[0motherwise\u001b[0m\u001b[0;31m \u001b[0m\u001b[0;31m`\u001b[0m\u001b[0;31m`\u001b[0m\u001b[0mJSONDecoder\u001b[0m\u001b[0;31m`\u001b[0m\u001b[0;31m`\u001b[0m \u001b[0;32mis\u001b[0m \u001b[0mused\u001b[0m\u001b[0;34m.\u001b[0m\u001b[0;34m\u001b[0m\u001b[0;34m\u001b[0m\u001b[0m\n\u001b[1;32m    292\u001b[0m     \"\"\"\n\u001b[0;32m--> 293\u001b[0;31m     return loads(fp.read(),\n\u001b[0m\u001b[1;32m    294\u001b[0m         \u001b[0mcls\u001b[0m\u001b[0;34m=\u001b[0m\u001b[0mcls\u001b[0m\u001b[0;34m,\u001b[0m \u001b[0mobject_hook\u001b[0m\u001b[0;34m=\u001b[0m\u001b[0mobject_hook\u001b[0m\u001b[0;34m,\u001b[0m\u001b[0;34m\u001b[0m\u001b[0;34m\u001b[0m\u001b[0m\n\u001b[1;32m    295\u001b[0m         \u001b[0mparse_float\u001b[0m\u001b[0;34m=\u001b[0m\u001b[0mparse_float\u001b[0m\u001b[0;34m,\u001b[0m \u001b[0mparse_int\u001b[0m\u001b[0;34m=\u001b[0m\u001b[0mparse_int\u001b[0m\u001b[0;34m,\u001b[0m\u001b[0;34m\u001b[0m\u001b[0;34m\u001b[0m\u001b[0m\n",
            "\u001b[0;32m/usr/lib/python3.10/json/__init__.py\u001b[0m in \u001b[0;36mloads\u001b[0;34m(s, cls, object_hook, parse_float, parse_int, parse_constant, object_pairs_hook, **kw)\u001b[0m\n\u001b[1;32m    344\u001b[0m             \u001b[0mparse_int\u001b[0m \u001b[0;32mis\u001b[0m \u001b[0;32mNone\u001b[0m \u001b[0;32mand\u001b[0m \u001b[0mparse_float\u001b[0m \u001b[0;32mis\u001b[0m \u001b[0;32mNone\u001b[0m \u001b[0;32mand\u001b[0m\u001b[0;34m\u001b[0m\u001b[0;34m\u001b[0m\u001b[0m\n\u001b[1;32m    345\u001b[0m             parse_constant is None and object_pairs_hook is None and not kw):\n\u001b[0;32m--> 346\u001b[0;31m         \u001b[0;32mreturn\u001b[0m \u001b[0m_default_decoder\u001b[0m\u001b[0;34m.\u001b[0m\u001b[0mdecode\u001b[0m\u001b[0;34m(\u001b[0m\u001b[0ms\u001b[0m\u001b[0;34m)\u001b[0m\u001b[0;34m\u001b[0m\u001b[0;34m\u001b[0m\u001b[0m\n\u001b[0m\u001b[1;32m    347\u001b[0m     \u001b[0;32mif\u001b[0m \u001b[0mcls\u001b[0m \u001b[0;32mis\u001b[0m \u001b[0;32mNone\u001b[0m\u001b[0;34m:\u001b[0m\u001b[0;34m\u001b[0m\u001b[0;34m\u001b[0m\u001b[0m\n\u001b[1;32m    348\u001b[0m         \u001b[0mcls\u001b[0m \u001b[0;34m=\u001b[0m \u001b[0mJSONDecoder\u001b[0m\u001b[0;34m\u001b[0m\u001b[0;34m\u001b[0m\u001b[0m\n",
            "\u001b[0;32m/usr/lib/python3.10/json/decoder.py\u001b[0m in \u001b[0;36mdecode\u001b[0;34m(self, s, _w)\u001b[0m\n\u001b[1;32m    335\u001b[0m \u001b[0;34m\u001b[0m\u001b[0m\n\u001b[1;32m    336\u001b[0m         \"\"\"\n\u001b[0;32m--> 337\u001b[0;31m         \u001b[0mobj\u001b[0m\u001b[0;34m,\u001b[0m \u001b[0mend\u001b[0m \u001b[0;34m=\u001b[0m \u001b[0mself\u001b[0m\u001b[0;34m.\u001b[0m\u001b[0mraw_decode\u001b[0m\u001b[0;34m(\u001b[0m\u001b[0ms\u001b[0m\u001b[0;34m,\u001b[0m \u001b[0midx\u001b[0m\u001b[0;34m=\u001b[0m\u001b[0m_w\u001b[0m\u001b[0;34m(\u001b[0m\u001b[0ms\u001b[0m\u001b[0;34m,\u001b[0m \u001b[0;36m0\u001b[0m\u001b[0;34m)\u001b[0m\u001b[0;34m.\u001b[0m\u001b[0mend\u001b[0m\u001b[0;34m(\u001b[0m\u001b[0;34m)\u001b[0m\u001b[0;34m)\u001b[0m\u001b[0;34m\u001b[0m\u001b[0;34m\u001b[0m\u001b[0m\n\u001b[0m\u001b[1;32m    338\u001b[0m         \u001b[0mend\u001b[0m \u001b[0;34m=\u001b[0m \u001b[0m_w\u001b[0m\u001b[0;34m(\u001b[0m\u001b[0ms\u001b[0m\u001b[0;34m,\u001b[0m \u001b[0mend\u001b[0m\u001b[0;34m)\u001b[0m\u001b[0;34m.\u001b[0m\u001b[0mend\u001b[0m\u001b[0;34m(\u001b[0m\u001b[0;34m)\u001b[0m\u001b[0;34m\u001b[0m\u001b[0;34m\u001b[0m\u001b[0m\n\u001b[1;32m    339\u001b[0m         \u001b[0;32mif\u001b[0m \u001b[0mend\u001b[0m \u001b[0;34m!=\u001b[0m \u001b[0mlen\u001b[0m\u001b[0;34m(\u001b[0m\u001b[0ms\u001b[0m\u001b[0;34m)\u001b[0m\u001b[0;34m:\u001b[0m\u001b[0;34m\u001b[0m\u001b[0;34m\u001b[0m\u001b[0m\n",
            "\u001b[0;32m/usr/lib/python3.10/json/decoder.py\u001b[0m in \u001b[0;36mraw_decode\u001b[0;34m(self, s, idx)\u001b[0m\n\u001b[1;32m    353\u001b[0m             \u001b[0mobj\u001b[0m\u001b[0;34m,\u001b[0m \u001b[0mend\u001b[0m \u001b[0;34m=\u001b[0m \u001b[0mself\u001b[0m\u001b[0;34m.\u001b[0m\u001b[0mscan_once\u001b[0m\u001b[0;34m(\u001b[0m\u001b[0ms\u001b[0m\u001b[0;34m,\u001b[0m \u001b[0midx\u001b[0m\u001b[0;34m)\u001b[0m\u001b[0;34m\u001b[0m\u001b[0;34m\u001b[0m\u001b[0m\n\u001b[1;32m    354\u001b[0m         \u001b[0;32mexcept\u001b[0m \u001b[0mStopIteration\u001b[0m \u001b[0;32mas\u001b[0m \u001b[0merr\u001b[0m\u001b[0;34m:\u001b[0m\u001b[0;34m\u001b[0m\u001b[0;34m\u001b[0m\u001b[0m\n\u001b[0;32m--> 355\u001b[0;31m             \u001b[0;32mraise\u001b[0m \u001b[0mJSONDecodeError\u001b[0m\u001b[0;34m(\u001b[0m\u001b[0;34m\"Expecting value\"\u001b[0m\u001b[0;34m,\u001b[0m \u001b[0ms\u001b[0m\u001b[0;34m,\u001b[0m \u001b[0merr\u001b[0m\u001b[0;34m.\u001b[0m\u001b[0mvalue\u001b[0m\u001b[0;34m)\u001b[0m \u001b[0;32mfrom\u001b[0m \u001b[0;32mNone\u001b[0m\u001b[0;34m\u001b[0m\u001b[0;34m\u001b[0m\u001b[0m\n\u001b[0m\u001b[1;32m    356\u001b[0m         \u001b[0;32mreturn\u001b[0m \u001b[0mobj\u001b[0m\u001b[0;34m,\u001b[0m \u001b[0mend\u001b[0m\u001b[0;34m\u001b[0m\u001b[0;34m\u001b[0m\u001b[0m\n",
            "\u001b[0;31mJSONDecodeError\u001b[0m: Expecting value: line 2 column 5 (char 6)"
          ]
        }
      ]
    },
    {
      "cell_type": "markdown",
      "source": [
        "77.Design a quiz application that evaluates user knowledge using functions and data structures.\n"
      ],
      "metadata": {
        "id": "eXegvowzor0T"
      }
    },
    {
      "cell_type": "code",
      "source": [
        "def ask_question(question, options):\n",
        "    print(question)\n",
        "    for i, option in enumerate(options):\n",
        "        print(f\"{i+1}. {option}\")\n",
        "    user_answer = int(input(\"Enter your answer (1-{}): \".format(len(options))))\n",
        "    return user_answer - 1\n",
        "\n",
        "def check_answer(correct_answer, user_answer):\n",
        "    return correct_answer == user_answer\n",
        "\n",
        "def quiz():\n",
        "    questions = [\n",
        "        (\"What is the capital of France?\", [\"Paris\", \"London\", \"Berlin\", \"Madrid\"]),\n",
        "        (\"What is the largest country in the world by land area?\", [\"Russia\", \"Canada\", \"China\", \"United States\"]),\n",
        "        (\"Who painted the Mona Lisa?\", [\"Leonardo da Vinci\", \"Michelangelo\", \"Pablo Picasso\", \"Vincent van Gogh\"])\n",
        "    ]\n",
        "\n",
        "    score = 0\n",
        "    for question, options in questions:\n",
        "        user_answer = ask_question(question, options)\n",
        "        correct_answer = 0  # Assuming the first option is correct\n",
        "        if check_answer(correct_answer, user_answer):\n",
        "            score += 1\n",
        "            print(\"Correct!\")\n",
        "        else:\n",
        "            print(\"Incorrect.\")\n",
        "\n",
        "    print(\"Your score:\", score, \"/\", len(questions))\n",
        "\n",
        "quiz()"
      ],
      "metadata": {
        "colab": {
          "base_uri": "https://localhost:8080/"
        },
        "id": "d63ed797hy0g",
        "outputId": "a36373a5-ee6f-4b85-9084-22d84d795fa3"
      },
      "execution_count": null,
      "outputs": [
        {
          "output_type": "stream",
          "name": "stdout",
          "text": [
            "What is the capital of France?\n",
            "1. Paris\n",
            "2. London\n",
            "3. Berlin\n",
            "4. Madrid\n",
            "Hello, world!\n",
            "Hello, world!\n",
            "Enter your answer (1-4): 1\n",
            "Correct!\n",
            "What is the largest country in the world by land area?\n",
            "1. Russia\n",
            "2. Canada\n",
            "3. China\n",
            "4. United States\n",
            "Hello, world!\n",
            "Enter your answer (1-4): 1\n",
            "Correct!\n",
            "Who painted the Mona Lisa?\n",
            "1. Leonardo da Vinci\n",
            "2. Michelangelo\n",
            "3. Pablo Picasso\n",
            "4. Vincent van Gogh\n",
            "Hello, world!\n",
            "Enter your answer (1-4): 1\n",
            "Hello, world!\n",
            "Correct!\n",
            "Your score: 3 / 3\n"
          ]
        }
      ]
    },
    {
      "cell_type": "markdown",
      "source": [
        "78.Create a simulation of a simple traffic light system.\n"
      ],
      "metadata": {
        "id": "6gtteo4Jo-Xx"
      }
    },
    {
      "cell_type": "markdown",
      "source": [
        "79.Develop a content management system using object-oriented principles and file handling.\n"
      ],
      "metadata": {
        "id": "EmP8qBk2pPxo"
      }
    },
    {
      "cell_type": "code",
      "source": [
        "import json\n",
        "\n",
        "class Article:\n",
        "    def __init__(self, title, content, author):\n",
        "        self.title = title\n",
        "        self.content = content\n",
        "        self.author = author\n",
        "\n",
        "class CMS:\n",
        "    def __init__(self, filename):\n",
        "        self.filename = filename\n",
        "        self.load_articles()\n",
        "\n",
        "    def load_articles(self):\n",
        "        try:\n",
        "            with open(self.filename, 'r') as f:\n",
        "                self.articles = json.load(f)\n",
        "        except FileNotFoundError:\n",
        "            self.articles = []\n",
        "\n",
        "    def save_articles(self):\n",
        "        with open(self.filename, 'w') as f:\n",
        "            json.dump(self.articles, f, indent=4)\n",
        "\n",
        "    def add_article(self, article):\n",
        "        self.articles.append(article.__dict__)\n",
        "        self.save_articles()\n",
        "\n",
        "    def remove_article(self, title):\n",
        "        for i, article in enumerate(self.articles):\n",
        "            if article['title'] == title:\n",
        "                del self.articles[i]\n",
        "                self.save_articles()\n",
        "                return\n",
        "        print(\"Article not found\")\n",
        "\n",
        "    def list_articles(self):\n",
        "        for article in self.articles:\n",
        "            print(f\"Title: {article['title']}\\nAuthor: {article['author']}\\n\")\n",
        "\n",
        "cms = CMS('articles.json')\n",
        "\n",
        "article1 = Article(\"Python Tutorial\", \"Learn Python programming\", \"pooja\")\n",
        "cms.add_article(article1)\n",
        "\n",
        "cms.list_articles()"
      ],
      "metadata": {
        "id": "jczYXyPEiQ92",
        "colab": {
          "base_uri": "https://localhost:8080/"
        },
        "outputId": "e150a49a-3309-48a4-fe82-16b1fd2476b7"
      },
      "execution_count": null,
      "outputs": [
        {
          "output_type": "stream",
          "name": "stdout",
          "text": [
            "Title: Python Tutorial\n",
            "Author: pooja\n",
            "\n"
          ]
        }
      ]
    }
  ],
  "metadata": {
    "colab": {
      "provenance": []
    },
    "kernelspec": {
      "display_name": "Python 3",
      "name": "python3"
    },
    "language_info": {
      "name": "python"
    }
  },
  "nbformat": 4,
  "nbformat_minor": 0
}